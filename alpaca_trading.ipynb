{
 "cells": [
  {
   "cell_type": "code",
   "execution_count": 5,
   "metadata": {},
   "outputs": [],
   "source": [
    "\n",
    "from keys import * \n",
    "\n",
    "import alpaca_trade_api as tradeapi\n",
    "\n"
   ]
  },
  {
   "cell_type": "code",
   "execution_count": 3,
   "metadata": {},
   "outputs": [
    {
     "name": "stdout",
     "output_type": "stream",
     "text": [
      "$400000 is available as buying power.\n"
     ]
    }
   ],
   "source": [
    "\n",
    "api = tradeapi.REST(API_KEY, SECRET_KEY, api_version='v2') # or use ENV Vars shown below\n",
    "account = api.get_account()\n",
    "\n",
    "portfolio = api.list_positions()\n",
    "\n",
    "# Print the quantity of shares for each position.\n",
    "for position in portfolio:\n",
    "    print(\"{} shares of {}\".format(position.qty, position.symbol))\n",
    "\n",
    "# Check how much money we can use to open new positions.\n",
    "print('${} is available as buying power.'.format(account.buying_power))\n"
   ]
  },
  {
   "cell_type": "code",
   "execution_count": 4,
   "metadata": {},
   "outputs": [
    {
     "name": "stdout",
     "output_type": "stream",
     "text": [
      "all assets:  8640\n",
      "nasdaq_assets:  3400\n",
      "We can trade AAPL.\n"
     ]
    }
   ],
   "source": [
    "\n",
    "\n",
    "# Get a list of all active assets.\n",
    "active_assets = api.list_assets(status='active')\n",
    "print('all assets: ', len(active_assets))\n",
    "\n",
    "# Filter the assets down to just those on NASDAQ.\n",
    "nasdaq_assets = [a for a in active_assets if a.exchange == 'NASDAQ']\n",
    "print('nasdaq_assets: ', len(nasdaq_assets))\n",
    "\n",
    "# Check if AAPL is tradable on the Alpaca platform.\n",
    "aapl_asset = api.get_asset('AAPL')\n",
    "if aapl_asset.tradable:\n",
    "    print('We can trade AAPL.')\n",
    "    "
   ]
  },
  {
   "cell_type": "code",
   "execution_count": 6,
   "metadata": {},
   "outputs": [
    {
     "name": "stdout",
     "output_type": "stream",
     "text": [
      "The market is closed.\n",
      "The market opened at 09:30:00 and closed at 16:00:00 on 2018-12-01.\n"
     ]
    }
   ],
   "source": [
    "\n",
    "# Check if the market is open now.\n",
    "clock = api.get_clock()\n",
    "print('The market is {}'.format('open.' if clock.is_open else 'closed.'))\n",
    "\n",
    "# Check when the market was open on Dec. 1, 2018\n",
    "date = '2018-12-01'\n",
    "calendar = api.get_calendar(start=date, end=date)[0]\n",
    "print('The market opened at {} and closed at {} on {}.'.format(\n",
    "    calendar.open,\n",
    "    calendar.close,\n",
    "    date\n",
    "))\n"
   ]
  },
  {
   "cell_type": "code",
   "execution_count": 7,
   "metadata": {},
   "outputs": [
    {
     "name": "stdout",
     "output_type": "stream",
     "text": [
      "{'AAPL': [Bar({   'c': 323.42,\n",
      "    'h': 323.44,\n",
      "    'l': 318.93,\n",
      "    'o': 320.745,\n",
      "    't': 1591070400,\n",
      "    'v': 37968664}), Bar({   'c': 325.09,\n",
      "    'h': 326.1,\n",
      "    'l': 322.3,\n",
      "    'o': 324.66,\n",
      "    't': 1591156800,\n",
      "    'v': 45506089}), Bar({   'c': 322.25,\n",
      "    'h': 325.62,\n",
      "    'l': 320.78,\n",
      "    'o': 324.39,\n",
      "    't': 1591243200,\n",
      "    'v': 38930216}), Bar({   'c': 331.54,\n",
      "    'h': 331.75,\n",
      "    'l': 323.23,\n",
      "    'o': 323.35,\n",
      "    't': 1591329600,\n",
      "    'v': 29572650}), Bar({   'c': 333.4402,\n",
      "    'h': 333.5,\n",
      "    'l': 327.32,\n",
      "    'o': 330.25,\n",
      "    't': 1591588800,\n",
      "    'v': 20899464})]}\n",
      "AAPL moved 3.958035199301626% over the last 5 days\n"
     ]
    }
   ],
   "source": [
    "\n",
    "# Get daily price data for AAPL over the last 5 trading days.\n",
    "barset = api.get_barset('AAPL', 'day', limit=5)\n",
    "aapl_bars = barset['AAPL']\n",
    "print(barset)\n",
    "\n",
    "# See how much AAPL moved in that timeframe.\n",
    "week_open = aapl_bars[0].o\n",
    "week_close = aapl_bars[-1].c\n",
    "percent_change = (week_close - week_open) / week_open * 100\n",
    "print('AAPL moved {}% over the last 5 days'.format(percent_change))\n"
   ]
  },
  {
   "cell_type": "code",
   "execution_count": 9,
   "metadata": {},
   "outputs": [
    {
     "name": "stdout",
     "output_type": "stream",
     "text": [
      "Got order #4345eeaa-38a0-4bb4-ba9f-9b0d498f630f\n"
     ]
    }
   ],
   "source": [
    "\n",
    "# Submit a market order to buy 1 share of Apple at market price\n",
    "api.submit_order(\n",
    "    symbol='AAPL',\n",
    "    qty=1,\n",
    "    side='buy',\n",
    "    type='market',\n",
    "    time_in_force='gtc'\n",
    ")\n",
    "\n",
    "# Submit a limit order to attempt to sell 1 share of AMD at a\n",
    "# particular price ($20.50) when the market opens\n",
    "api.submit_order(\n",
    "    symbol='AMD',\n",
    "    qty=1,\n",
    "    side='buy',\n",
    "    type='limit',\n",
    "    time_in_force='opg', # 'gtc', 'day'\n",
    "    limit_price=20.50,\n",
    "    client_order_id='my_first_order'\n",
    ")\n",
    "\n",
    "\n",
    "\n",
    "# Get our order using its Client Order ID.\n",
    "my_order = api.get_order_by_client_order_id('my_first_order')\n",
    "print('Got order #{}'.format(my_order.id))\n"
   ]
  },
  {
   "cell_type": "code",
   "execution_count": 11,
   "metadata": {},
   "outputs": [
    {
     "data": {
      "text/plain": [
       "Order({   'asset_class': 'us_equity',\n",
       "    'asset_id': 'b0b6dd9d-8b9b-48a9-ba46-b9d54906e415',\n",
       "    'canceled_at': None,\n",
       "    'client_order_id': '772a4ff2-013f-4f77-8ebe-5f28d709659d',\n",
       "    'created_at': '2020-06-09T06:03:21.279519Z',\n",
       "    'expired_at': None,\n",
       "    'extended_hours': False,\n",
       "    'failed_at': None,\n",
       "    'filled_at': None,\n",
       "    'filled_avg_price': None,\n",
       "    'filled_qty': '0',\n",
       "    'id': '588c0346-b53e-443d-b7c5-56e5a6f4f3dd',\n",
       "    'legs': [   {   'asset_class': 'us_equity',\n",
       "                    'asset_id': 'b0b6dd9d-8b9b-48a9-ba46-b9d54906e415',\n",
       "                    'canceled_at': None,\n",
       "                    'client_order_id': 'e31ee70f-c3e8-43eb-819a-3a3aaab9ab27',\n",
       "                    'created_at': '2020-06-09T06:03:21.279519Z',\n",
       "                    'expired_at': None,\n",
       "                    'extended_hours': False,\n",
       "                    'failed_at': None,\n",
       "                    'filled_at': None,\n",
       "                    'filled_avg_price': None,\n",
       "                    'filled_qty': '0',\n",
       "                    'id': 'e9de5164-ff5c-41ea-bbb9-ccb299bfa0ed',\n",
       "                    'legs': None,\n",
       "                    'limit_price': '350.2065',\n",
       "                    'order_class': 'bracket',\n",
       "                    'order_type': 'limit',\n",
       "                    'qty': '1',\n",
       "                    'replaced_at': None,\n",
       "                    'replaced_by': None,\n",
       "                    'replaces': None,\n",
       "                    'side': 'sell',\n",
       "                    'status': 'held',\n",
       "                    'stop_price': None,\n",
       "                    'submitted_at': '2020-06-09T06:03:21.267271Z',\n",
       "                    'symbol': 'AAPL',\n",
       "                    'time_in_force': 'gtc',\n",
       "                    'type': 'limit',\n",
       "                    'updated_at': '2020-06-09T06:03:21.279519Z'},\n",
       "                {   'asset_class': 'us_equity',\n",
       "                    'asset_id': 'b0b6dd9d-8b9b-48a9-ba46-b9d54906e415',\n",
       "                    'canceled_at': None,\n",
       "                    'client_order_id': '3ee95d0c-ea94-4482-82b7-15dab143303d',\n",
       "                    'created_at': '2020-06-09T06:03:21.279519Z',\n",
       "                    'expired_at': None,\n",
       "                    'extended_hours': False,\n",
       "                    'failed_at': None,\n",
       "                    'filled_at': None,\n",
       "                    'filled_avg_price': None,\n",
       "                    'filled_qty': '0',\n",
       "                    'id': 'da63ed13-007c-412f-9725-dfb4963385cd',\n",
       "                    'legs': None,\n",
       "                    'limit_price': '313.5182',\n",
       "                    'order_class': 'bracket',\n",
       "                    'order_type': 'stop_limit',\n",
       "                    'qty': '1',\n",
       "                    'replaced_at': None,\n",
       "                    'replaced_by': None,\n",
       "                    'replaces': None,\n",
       "                    'side': 'sell',\n",
       "                    'status': 'held',\n",
       "                    'stop_price': '316.85349999999994',\n",
       "                    'submitted_at': '2020-06-09T06:03:21.267271Z',\n",
       "                    'symbol': 'AAPL',\n",
       "                    'time_in_force': 'gtc',\n",
       "                    'type': 'stop_limit',\n",
       "                    'updated_at': '2020-06-09T06:03:21.279519Z'}],\n",
       "    'limit_price': None,\n",
       "    'order_class': 'bracket',\n",
       "    'order_type': 'market',\n",
       "    'qty': '1',\n",
       "    'replaced_at': None,\n",
       "    'replaced_by': None,\n",
       "    'replaces': None,\n",
       "    'side': 'buy',\n",
       "    'status': 'accepted',\n",
       "    'stop_price': None,\n",
       "    'submitted_at': '2020-06-09T06:03:21.267271Z',\n",
       "    'symbol': 'AAPL',\n",
       "    'time_in_force': 'gtc',\n",
       "    'type': 'market',\n",
       "    'updated_at': '2020-06-09T06:03:21.287168Z'})"
      ]
     },
     "execution_count": 11,
     "metadata": {},
     "output_type": "execute_result"
    }
   ],
   "source": [
    "\n",
    "symbol = 'AAPL'\n",
    "symbol_bars = api.get_barset(symbol, 'minute', 1).df.iloc[0]\n",
    "symbol_price = symbol_bars[symbol]['close']\n",
    "\n",
    "# We could buy a position and add a stop-loss and a take-profit of 5 %\n",
    "api.submit_order(\n",
    "    symbol=symbol,\n",
    "    qty=1,\n",
    "    side='buy',\n",
    "    type='market',\n",
    "    time_in_force='gtc',\n",
    "    order_class='bracket',\n",
    "    stop_loss={'stop_price': symbol_price * 0.95,\n",
    "               'limit_price':  symbol_price * 0.94},\n",
    "    take_profit={'limit_price': symbol_price * 1.05}\n",
    ")\n"
   ]
  },
  {
   "cell_type": "code",
   "execution_count": 10,
   "metadata": {},
   "outputs": [
    {
     "name": "stdout",
     "output_type": "stream",
     "text": [
      "[]\n"
     ]
    }
   ],
   "source": [
    "# Get the last 100 of our closed orders\n",
    "closed_orders = api.list_orders(\n",
    "    status='closed',\n",
    "    limit=100,\n",
    "    nested=True  # show nested multi-leg orders\n",
    ")\n",
    "\n",
    "# Get only the closed orders for a particular stock\n",
    "closed_aapl_orders = [o for o in closed_orders if o.symbol == 'AAPL']\n",
    "print(closed_aapl_orders)\n"
   ]
  },
  {
   "cell_type": "code",
   "execution_count": null,
   "metadata": {},
   "outputs": [],
   "source": []
  }
 ],
 "metadata": {
  "kernelspec": {
   "display_name": "Python 3",
   "language": "python",
   "name": "python3"
  },
  "language_info": {
   "codemirror_mode": {
    "name": "ipython",
    "version": 3
   },
   "file_extension": ".py",
   "mimetype": "text/x-python",
   "name": "python",
   "nbconvert_exporter": "python",
   "pygments_lexer": "ipython3",
   "version": "3.8.3"
  }
 },
 "nbformat": 4,
 "nbformat_minor": 4
}
