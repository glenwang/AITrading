{
 "cells": [
  {
   "cell_type": "code",
   "execution_count": 1,
   "metadata": {},
   "outputs": [],
   "source": [
    "#data sources, etc\n",
    "import pandas as pd\n",
    "import numpy as np\n",
    "from numpy import empty, vstack, array\n",
    "\n",
    "from alpha_vantage.timeseries import TimeSeries\n",
    "from alpha_vantage.techindicators import TechIndicators\n",
    "from matplotlib.pyplot import figure\n",
    "import matplotlib.pyplot as plt\n",
    "import time\n",
    "from sklearn.metrics import mean_squared_error\n",
    "from sklearn import preprocessing\n",
    "from sklearn.preprocessing import MinMaxScaler\n",
    "\n",
    "import math, time\n",
    "from math import sqrt\n",
    "import torch\n",
    "import torch.nn as nn\n",
    "from torch.autograd import Variable"
   ]
  },
  {
   "cell_type": "code",
   "execution_count": 2,
   "metadata": {},
   "outputs": [
    {
     "data": {
      "text/html": [
       "<div>\n",
       "<style scoped>\n",
       "    .dataframe tbody tr th:only-of-type {\n",
       "        vertical-align: middle;\n",
       "    }\n",
       "\n",
       "    .dataframe tbody tr th {\n",
       "        vertical-align: top;\n",
       "    }\n",
       "\n",
       "    .dataframe thead th {\n",
       "        text-align: right;\n",
       "    }\n",
       "</style>\n",
       "<table border=\"1\" class=\"dataframe\">\n",
       "  <thead>\n",
       "    <tr style=\"text-align: right;\">\n",
       "      <th></th>\n",
       "      <th>date</th>\n",
       "      <th>open</th>\n",
       "      <th>high</th>\n",
       "      <th>low</th>\n",
       "      <th>close</th>\n",
       "      <th>volume</th>\n",
       "      <th>ticker</th>\n",
       "    </tr>\n",
       "  </thead>\n",
       "  <tbody>\n",
       "    <tr>\n",
       "      <th>0</th>\n",
       "      <td>2020-06-08</td>\n",
       "      <td>9.7000</td>\n",
       "      <td>9.830</td>\n",
       "      <td>9.4900</td>\n",
       "      <td>9.53</td>\n",
       "      <td>6083313.0</td>\n",
       "      <td>SRTY</td>\n",
       "    </tr>\n",
       "    <tr>\n",
       "      <th>1</th>\n",
       "      <td>2020-06-05</td>\n",
       "      <td>9.9600</td>\n",
       "      <td>10.270</td>\n",
       "      <td>9.6500</td>\n",
       "      <td>10.13</td>\n",
       "      <td>11205729.0</td>\n",
       "      <td>SRTY</td>\n",
       "    </tr>\n",
       "    <tr>\n",
       "      <th>2</th>\n",
       "      <td>2020-06-04</td>\n",
       "      <td>11.6399</td>\n",
       "      <td>11.780</td>\n",
       "      <td>11.2150</td>\n",
       "      <td>11.46</td>\n",
       "      <td>8088398.0</td>\n",
       "      <td>SRTY</td>\n",
       "    </tr>\n",
       "    <tr>\n",
       "      <th>3</th>\n",
       "      <td>2020-06-03</td>\n",
       "      <td>11.7200</td>\n",
       "      <td>11.850</td>\n",
       "      <td>11.0900</td>\n",
       "      <td>11.41</td>\n",
       "      <td>9058773.0</td>\n",
       "      <td>SRTY</td>\n",
       "    </tr>\n",
       "    <tr>\n",
       "      <th>4</th>\n",
       "      <td>2020-06-02</td>\n",
       "      <td>12.3800</td>\n",
       "      <td>12.790</td>\n",
       "      <td>12.1700</td>\n",
       "      <td>12.30</td>\n",
       "      <td>6600797.0</td>\n",
       "      <td>SRTY</td>\n",
       "    </tr>\n",
       "    <tr>\n",
       "      <th>...</th>\n",
       "      <td>...</td>\n",
       "      <td>...</td>\n",
       "      <td>...</td>\n",
       "      <td>...</td>\n",
       "      <td>...</td>\n",
       "      <td>...</td>\n",
       "      <td>...</td>\n",
       "    </tr>\n",
       "    <tr>\n",
       "      <th>12619</th>\n",
       "      <td>2020-01-22</td>\n",
       "      <td>56.8800</td>\n",
       "      <td>57.030</td>\n",
       "      <td>56.6500</td>\n",
       "      <td>56.85</td>\n",
       "      <td>4256610.0</td>\n",
       "      <td>KRE</td>\n",
       "    </tr>\n",
       "    <tr>\n",
       "      <th>12620</th>\n",
       "      <td>2020-01-21</td>\n",
       "      <td>57.1400</td>\n",
       "      <td>57.405</td>\n",
       "      <td>56.7901</td>\n",
       "      <td>56.80</td>\n",
       "      <td>5027864.0</td>\n",
       "      <td>KRE</td>\n",
       "    </tr>\n",
       "    <tr>\n",
       "      <th>12621</th>\n",
       "      <td>2020-01-17</td>\n",
       "      <td>57.9100</td>\n",
       "      <td>57.950</td>\n",
       "      <td>57.4400</td>\n",
       "      <td>57.54</td>\n",
       "      <td>8222643.0</td>\n",
       "      <td>KRE</td>\n",
       "    </tr>\n",
       "    <tr>\n",
       "      <th>12622</th>\n",
       "      <td>2020-01-16</td>\n",
       "      <td>56.9000</td>\n",
       "      <td>57.480</td>\n",
       "      <td>56.8900</td>\n",
       "      <td>57.41</td>\n",
       "      <td>7366494.0</td>\n",
       "      <td>KRE</td>\n",
       "    </tr>\n",
       "    <tr>\n",
       "      <th>12623</th>\n",
       "      <td>2020-01-15</td>\n",
       "      <td>56.8400</td>\n",
       "      <td>57.050</td>\n",
       "      <td>56.3300</td>\n",
       "      <td>56.60</td>\n",
       "      <td>10385863.0</td>\n",
       "      <td>KRE</td>\n",
       "    </tr>\n",
       "  </tbody>\n",
       "</table>\n",
       "<p>12624 rows × 7 columns</p>\n",
       "</div>"
      ],
      "text/plain": [
       "             date     open    high      low  close      volume ticker\n",
       "0      2020-06-08   9.7000   9.830   9.4900   9.53   6083313.0   SRTY\n",
       "1      2020-06-05   9.9600  10.270   9.6500  10.13  11205729.0   SRTY\n",
       "2      2020-06-04  11.6399  11.780  11.2150  11.46   8088398.0   SRTY\n",
       "3      2020-06-03  11.7200  11.850  11.0900  11.41   9058773.0   SRTY\n",
       "4      2020-06-02  12.3800  12.790  12.1700  12.30   6600797.0   SRTY\n",
       "...           ...      ...     ...      ...    ...         ...    ...\n",
       "12619  2020-01-22  56.8800  57.030  56.6500  56.85   4256610.0    KRE\n",
       "12620  2020-01-21  57.1400  57.405  56.7901  56.80   5027864.0    KRE\n",
       "12621  2020-01-17  57.9100  57.950  57.4400  57.54   8222643.0    KRE\n",
       "12622  2020-01-16  56.9000  57.480  56.8900  57.41   7366494.0    KRE\n",
       "12623  2020-01-15  56.8400  57.050  56.3300  56.60  10385863.0    KRE\n",
       "\n",
       "[12624 rows x 7 columns]"
      ]
     },
     "execution_count": 2,
     "metadata": {},
     "output_type": "execute_result"
    }
   ],
   "source": [
    "cData=pd.read_csv('127compiledDailyData127.csv') #.drop(columns='Unnamed: 0')\n",
    "cData"
   ]
  },
  {
   "cell_type": "code",
   "execution_count": 3,
   "metadata": {},
   "outputs": [
    {
     "data": {
      "text/plain": [
       "array(['SRTY', 'CAL', 'TEN', 'OSUR', 'APY', 'SABR', 'OVV', 'CIM', 'RUTH',\n",
       "       'LILAK', 'UAA', 'MAC', 'TGI', 'SVC', 'MT', 'EB', 'AA', 'GPS',\n",
       "       'XHR', 'PCG', 'AMKR', 'AZUL', 'ROIC', 'HBI', 'RLJ', 'PK', 'BPYU',\n",
       "       'DENN', 'JBLU', 'BLMN', 'UGAZ', 'HST', 'KEY', 'FAZ', 'DLPH', 'SRG',\n",
       "       'CXP', 'RRR', 'YEXT', 'PEB', 'AKR', 'PVAC', 'HOMB', 'ELY', 'DXD',\n",
       "       'CUK', 'EPRT', 'CNP', 'PPC', 'XRX', 'AAL', 'GAN', 'NMIH', 'PLAY',\n",
       "       'DFEN', 'SEAS', 'HA', 'OUT', 'VVV', 'TZA', 'JETS', 'OXY', 'ERX',\n",
       "       'CCL', 'MGM', 'SDOW', 'DBX', 'WRI', 'NCLH', 'CCC', 'JWN', 'SAVE',\n",
       "       'KTB', 'FSCT', 'USFD', 'AU', 'ILF', 'HGV', 'CHK', 'TRIP', 'PD',\n",
       "       'CIT', 'HSBC', 'KSS', 'REM', 'YELP', 'HTA', 'CAKE', 'EWG', 'KDP',\n",
       "       'PEAK', 'GM', 'SCHC', 'CAR', 'APLS', 'WFC', 'NAIL', 'WORK', 'KHC',\n",
       "       'DUST', 'SPR', 'VTIQ', 'DAL', 'ZTO', 'RWM', 'TMF', 'CUZ', 'COLD',\n",
       "       'TCBI', 'NKLA', 'KBE', 'WYND', 'DT', 'LUV', 'ADPT', 'URTY', 'ARES',\n",
       "       'FR', 'WERN', 'UAL', 'ALK', 'SCHW', 'EFV', 'REXR', 'VNO', 'SMAR',\n",
       "       'KRE'], dtype=object)"
      ]
     },
     "execution_count": 3,
     "metadata": {},
     "output_type": "execute_result"
    }
   ],
   "source": [
    "cData['ticker'].unique()"
   ]
  },
  {
   "cell_type": "code",
   "execution_count": 4,
   "metadata": {},
   "outputs": [],
   "source": [
    "def accendingTimeOrder (df):\n",
    "    ndf=df.iloc[::-1].reset_index().drop('index',axis=1)\n",
    "    return ndf\n",
    "\n",
    "cDataAssend=accendingTimeOrder(cData)\n",
    "dfCandle=cDataAssend[['open','high','low','close', 'ticker']]"
   ]
  },
  {
   "cell_type": "code",
   "execution_count": 5,
   "metadata": {},
   "outputs": [
    {
     "data": {
      "text/html": [
       "<div>\n",
       "<style scoped>\n",
       "    .dataframe tbody tr th:only-of-type {\n",
       "        vertical-align: middle;\n",
       "    }\n",
       "\n",
       "    .dataframe tbody tr th {\n",
       "        vertical-align: top;\n",
       "    }\n",
       "\n",
       "    .dataframe thead th {\n",
       "        text-align: right;\n",
       "    }\n",
       "</style>\n",
       "<table border=\"1\" class=\"dataframe\">\n",
       "  <thead>\n",
       "    <tr style=\"text-align: right;\">\n",
       "      <th></th>\n",
       "      <th>open</th>\n",
       "      <th>high</th>\n",
       "      <th>low</th>\n",
       "      <th>close</th>\n",
       "      <th>ticker</th>\n",
       "    </tr>\n",
       "  </thead>\n",
       "  <tbody>\n",
       "    <tr>\n",
       "      <th>0</th>\n",
       "      <td>0.071228</td>\n",
       "      <td>-0.040027</td>\n",
       "      <td>0.174344</td>\n",
       "      <td>0.071628</td>\n",
       "      <td>KRE</td>\n",
       "    </tr>\n",
       "    <tr>\n",
       "      <th>1</th>\n",
       "      <td>0.072361</td>\n",
       "      <td>-0.032772</td>\n",
       "      <td>0.186043</td>\n",
       "      <td>0.087000</td>\n",
       "      <td>KRE</td>\n",
       "    </tr>\n",
       "    <tr>\n",
       "      <th>2</th>\n",
       "      <td>0.091443</td>\n",
       "      <td>-0.024843</td>\n",
       "      <td>0.197534</td>\n",
       "      <td>0.089467</td>\n",
       "      <td>KRE</td>\n",
       "    </tr>\n",
       "    <tr>\n",
       "      <th>3</th>\n",
       "      <td>0.076896</td>\n",
       "      <td>-0.034038</td>\n",
       "      <td>0.183956</td>\n",
       "      <td>0.075424</td>\n",
       "      <td>KRE</td>\n",
       "    </tr>\n",
       "    <tr>\n",
       "      <th>4</th>\n",
       "      <td>0.071984</td>\n",
       "      <td>-0.040364</td>\n",
       "      <td>0.181029</td>\n",
       "      <td>0.076372</td>\n",
       "      <td>KRE</td>\n",
       "    </tr>\n",
       "    <tr>\n",
       "      <th>...</th>\n",
       "      <td>...</td>\n",
       "      <td>...</td>\n",
       "      <td>...</td>\n",
       "      <td>...</td>\n",
       "      <td>...</td>\n",
       "    </tr>\n",
       "    <tr>\n",
       "      <th>12619</th>\n",
       "      <td>-0.768748</td>\n",
       "      <td>-0.786748</td>\n",
       "      <td>-0.748252</td>\n",
       "      <td>-0.769068</td>\n",
       "      <td>SRTY</td>\n",
       "    </tr>\n",
       "    <tr>\n",
       "      <th>12620</th>\n",
       "      <td>-0.781217</td>\n",
       "      <td>-0.802607</td>\n",
       "      <td>-0.770816</td>\n",
       "      <td>-0.785958</td>\n",
       "      <td>SRTY</td>\n",
       "    </tr>\n",
       "    <tr>\n",
       "      <th>12621</th>\n",
       "      <td>-0.782730</td>\n",
       "      <td>-0.803788</td>\n",
       "      <td>-0.768204</td>\n",
       "      <td>-0.785009</td>\n",
       "      <td>SRTY</td>\n",
       "    </tr>\n",
       "    <tr>\n",
       "      <th>12622</th>\n",
       "      <td>-0.814469</td>\n",
       "      <td>-0.829263</td>\n",
       "      <td>-0.800900</td>\n",
       "      <td>-0.810249</td>\n",
       "      <td>SRTY</td>\n",
       "    </tr>\n",
       "    <tr>\n",
       "      <th>12623</th>\n",
       "      <td>-0.819381</td>\n",
       "      <td>-0.836686</td>\n",
       "      <td>-0.804243</td>\n",
       "      <td>-0.821636</td>\n",
       "      <td>SRTY</td>\n",
       "    </tr>\n",
       "  </tbody>\n",
       "</table>\n",
       "<p>12624 rows × 5 columns</p>\n",
       "</div>"
      ],
      "text/plain": [
       "           open      high       low     close ticker\n",
       "0      0.071228 -0.040027  0.174344  0.071628    KRE\n",
       "1      0.072361 -0.032772  0.186043  0.087000    KRE\n",
       "2      0.091443 -0.024843  0.197534  0.089467    KRE\n",
       "3      0.076896 -0.034038  0.183956  0.075424    KRE\n",
       "4      0.071984 -0.040364  0.181029  0.076372    KRE\n",
       "...         ...       ...       ...       ...    ...\n",
       "12619 -0.768748 -0.786748 -0.748252 -0.769068   SRTY\n",
       "12620 -0.781217 -0.802607 -0.770816 -0.785958   SRTY\n",
       "12621 -0.782730 -0.803788 -0.768204 -0.785009   SRTY\n",
       "12622 -0.814469 -0.829263 -0.800900 -0.810249   SRTY\n",
       "12623 -0.819381 -0.836686 -0.804243 -0.821636   SRTY\n",
       "\n",
       "[12624 rows x 5 columns]"
      ]
     },
     "execution_count": 5,
     "metadata": {},
     "output_type": "execute_result"
    }
   ],
   "source": [
    "scaler = MinMaxScaler(feature_range=(-1, 1))\n",
    "    \n",
    "scaleCol=['open','high','low', 'close']\n",
    "dfCandleScaled=pd.DataFrame(scaler.fit_transform(dfCandle[scaleCol].values))\n",
    "dfCandleScaled.columns=scaleCol\n",
    "dfCandleScaled['ticker']=dfCandle['ticker']\n",
    "\n",
    "dfCandleScaled"
   ]
  },
  {
   "cell_type": "code",
   "execution_count": 7,
   "metadata": {},
   "outputs": [],
   "source": [
    "def crossSec_stocks_split(stock, train_ratio=.8):\n",
    "    tickers=stock['ticker'].unique()\n",
    "    tlen=int(np.round(train_ratio*tickers.shape[0]))\n",
    "\n",
    "    trainT=tickers[:tlen]\n",
    "    testT=tickers[tlen:]\n",
    "    \n",
    "    trainS=pd.DataFrame()\n",
    "    testS=pd.DataFrame()\n",
    "    for t in trainT:\n",
    "        s = stock[stock['ticker']==t]\n",
    "        trainS=trainS.append(s)\n",
    "    for t in testT:\n",
    "        s = stock[stock['ticker']==t]\n",
    "        testS=testS.append(s)        \n",
    "    return trainS, testS"
   ]
  },
  {
   "cell_type": "code",
   "execution_count": 8,
   "metadata": {},
   "outputs": [],
   "source": [
    "def load_data(stock, look_back=20):\n",
    "    \n",
    "    data_raw = stock.values # convert to numpy array\n",
    "    data = []\n",
    "    \n",
    "    # create all possible sequences of length seq_len\n",
    "    for index in range(len(data_raw) - look_back): \n",
    "        data.append(data_raw[index: index + look_back])\n",
    "    \n",
    "    data = np.array(data);\n",
    "    \n",
    "    x_data = data[:data.shape[0],:-1,:] #[:,:-1,:]\n",
    "    y_data = data[:data.shape[0],-1,:]\n",
    "\n",
    "    return [x_data, y_data]"
   ]
  },
  {
   "cell_type": "code",
   "execution_count": 9,
   "metadata": {},
   "outputs": [],
   "source": [
    "def load_crossSec_stocks_data(stock, look_back=20):\n",
    "    trainData,testData=crossSec_stocks_split(stock)\n",
    "    \n",
    "    lenColNoTicker=len(stock.columns)-1\n",
    "    \n",
    "    x_train=empty([0,look_back-1,lenColNoTicker])\n",
    "    y_train=empty([0,lenColNoTicker])\n",
    "    x_test=empty([0,look_back-1,lenColNoTicker])\n",
    "    y_test=empty([0,lenColNoTicker])\n",
    "    \n",
    "\n",
    "    for ticker in trainData['ticker'].unique():\n",
    "        s = stock[stock['ticker']==ticker].drop('ticker',axis=1)\n",
    "        x_train1, y_train1 = load_data(s, look_back)\n",
    "        x_train=vstack((x_train, x_train1))\n",
    "        y_train=vstack((y_train, y_train1))\n",
    "    for ticker in testData['ticker'].unique():\n",
    "        s = stock[stock['ticker']==ticker].drop('ticker',axis=1)\n",
    "        x_test1, y_test1 = load_data(s, look_back)\n",
    "        x_test=vstack((x_test, x_test1))\n",
    "        y_test=vstack((y_test, y_test1))\n",
    "    return x_train, y_train, x_test, y_test"
   ]
  },
  {
   "cell_type": "code",
   "execution_count": 10,
   "metadata": {},
   "outputs": [],
   "source": [
    "look_back=20\n",
    "x_train, y_train, x_test, y_test=load_crossSec_stocks_data(dfCandleScaled,look_back=look_back)"
   ]
  },
  {
   "cell_type": "code",
   "execution_count": 11,
   "metadata": {},
   "outputs": [
    {
     "data": {
      "text/plain": [
       "(torch.Size([8084, 4]), torch.Size([8084, 19, 4]))"
      ]
     },
     "execution_count": 11,
     "metadata": {},
     "output_type": "execute_result"
    }
   ],
   "source": [
    "# make training and test sets in torch\n",
    "x_train = torch.from_numpy(x_train).type(torch.Tensor)\n",
    "x_test = torch.from_numpy(x_test).type(torch.Tensor)\n",
    "y_train = torch.from_numpy(y_train).type(torch.Tensor)\n",
    "y_test = torch.from_numpy(y_test).type(torch.Tensor)\n",
    "\n",
    "#train_X = train_X.view([-1, x_train.shape[0], 1])\n",
    "#test_X = test_X.view([-1, x_test.shape[0], 1])\n",
    "#train_Y = train_Y.view([y_train.shape[0], 1])\n",
    "\n",
    "y_train.size(),x_train.size()"
   ]
  },
  {
   "cell_type": "code",
   "execution_count": 159,
   "metadata": {},
   "outputs": [],
   "source": [
    "n_steps = look_back-1\n",
    "batch_size = 8084\n",
    "#n_iters = 3000\n",
    "num_epochs = 200 #n_iters / (len(train_X) / batch_size)\n",
    "#num_epochs = int(num_epochs)\n",
    "\n",
    "train = torch.utils.data.TensorDataset(x_train,y_train)\n",
    "test = torch.utils.data.TensorDataset(x_test,y_test)\n",
    "\n",
    "train_loader = torch.utils.data.DataLoader(dataset=train, \n",
    "                                           batch_size=batch_size, \n",
    "                                           shuffle=False)\n",
    "\n",
    "test_loader = torch.utils.data.DataLoader(dataset=test, \n",
    "                                          batch_size=batch_size, \n",
    "                                          shuffle=False)"
   ]
  },
  {
   "cell_type": "code",
   "execution_count": 160,
   "metadata": {},
   "outputs": [
    {
     "name": "stdout",
     "output_type": "stream",
     "text": [
      "LSTM(\n",
      "  (lstm): LSTM(4, 20, num_layers=3, batch_first=True)\n",
      "  (fc): Linear(in_features=20, out_features=4, bias=True)\n",
      ")\n",
      "14\n",
      "torch.Size([80, 4])\n",
      "torch.Size([80, 20])\n",
      "torch.Size([80])\n",
      "torch.Size([80])\n",
      "torch.Size([80, 20])\n",
      "torch.Size([80, 20])\n",
      "torch.Size([80])\n",
      "torch.Size([80])\n",
      "torch.Size([80, 20])\n",
      "torch.Size([80, 20])\n",
      "torch.Size([80])\n",
      "torch.Size([80])\n",
      "torch.Size([4, 20])\n",
      "torch.Size([4])\n"
     ]
    },
    {
     "name": "stderr",
     "output_type": "stream",
     "text": [
      "/opt/anaconda3/lib/python3.7/site-packages/torch/nn/_reduction.py:43: UserWarning: size_average and reduce args will be deprecated, please use reduction='mean' instead.\n",
      "  warnings.warn(warning.format(ret))\n"
     ]
    }
   ],
   "source": [
    "# Build model\n",
    "#####################\n",
    "input_dim = 4\n",
    "hidden_dim = 20\n",
    "num_layers = 3\n",
    "output_dim = 4\n",
    "\n",
    "\n",
    "# Here we define our model as a class\n",
    "class LSTM(nn.Module):\n",
    "    def __init__(self, input_dim, hidden_dim, num_layers, output_dim):\n",
    "        super(LSTM, self).__init__()\n",
    "        # Hidden dimensions\n",
    "        self.hidden_dim = hidden_dim\n",
    "\n",
    "        # Number of hidden layers\n",
    "        self.num_layers = num_layers\n",
    "\n",
    "        # Building your LSTM\n",
    "        # batch_first=True causes input/output tensors to be of shape\n",
    "        # (batch_dim, seq_dim, feature_dim)\n",
    "        self.lstm = nn.LSTM(input_dim, hidden_dim, num_layers, batch_first=True)\n",
    "\n",
    "        # Readout layer\n",
    "        self.fc = nn.Linear(hidden_dim, output_dim)\n",
    "\n",
    "    def forward(self, x):\n",
    "        # Initialize hidden state with zeros\n",
    "        h0 = torch.zeros(self.num_layers, x.size(0), self.hidden_dim).requires_grad_()\n",
    "\n",
    "        # Initialize cell state\n",
    "        c0 = torch.zeros(self.num_layers, x.size(0), self.hidden_dim).requires_grad_()\n",
    "\n",
    "        # One time step\n",
    "        # We need to detach as we are doing truncated backpropagation through time (BPTT)\n",
    "        # If we don't, we'll backprop all the way to the start even after going through another batch\n",
    "        out, (hn, cn) = self.lstm(x, (h0.detach(), c0.detach()))\n",
    "\n",
    "        # Index hidden state of last time step\n",
    "        # out.size() --> 100, 28, 100\n",
    "        # out[:, -1, :] --> 100, 100 --> just want last time step hidden states! \n",
    "        out = self.fc(out[:, -1, :]) \n",
    "        # out.size() --> 100, 10\n",
    "        return out\n",
    "    \n",
    "model = LSTM(input_dim=input_dim, hidden_dim=hidden_dim, output_dim=output_dim, num_layers=num_layers)\n",
    "\n",
    "loss_fn = torch.nn.MSELoss(size_average=True)\n",
    "\n",
    "optimiser = torch.optim.Rprop(model.parameters(), lr=0.02)\n",
    "print(model)\n",
    "print(len(list(model.parameters())))\n",
    "for i in range(len(list(model.parameters()))):\n",
    "    print(list(model.parameters())[i].size())"
   ]
  },
  {
   "cell_type": "code",
   "execution_count": 161,
   "metadata": {},
   "outputs": [
    {
     "name": "stdout",
     "output_type": "stream",
     "text": [
      "Epoch  10 MSE:  0.04800526425242424\n",
      "Epoch  20 MSE:  0.008564620278775692\n",
      "Epoch  30 MSE:  0.005757931154221296\n",
      "Epoch  40 MSE:  0.003121263813227415\n",
      "Epoch  50 MSE:  0.001962346490472555\n",
      "Epoch  60 MSE:  0.001262290752492845\n",
      "Epoch  70 MSE:  0.0010584975825622678\n",
      "Epoch  80 MSE:  0.0010035766754299402\n",
      "Epoch  90 MSE:  0.0009717775974422693\n",
      "Epoch  100 MSE:  0.0009413664811290801\n",
      "Epoch  110 MSE:  0.0009170763078145683\n",
      "Epoch  120 MSE:  0.0008900112006813288\n",
      "Epoch  130 MSE:  0.000864149653352797\n",
      "Epoch  140 MSE:  0.0008459778036922216\n",
      "Epoch  150 MSE:  0.0008241883479058743\n",
      "Epoch  160 MSE:  0.0008094849181361496\n",
      "Epoch  170 MSE:  0.0007937431801110506\n",
      "Epoch  180 MSE:  0.0007781449821777642\n",
      "Epoch  190 MSE:  0.0007658763788640499\n"
     ]
    }
   ],
   "source": [
    "# Train model\n",
    "#####################\n",
    "\n",
    "hist1 = np.zeros(num_epochs)\n",
    "\n",
    "# Number of steps to unroll\n",
    "seq_dim =look_back-1  \n",
    "\n",
    "for t in range(num_epochs):\n",
    "    # Initialise hidden state\n",
    "    # Don't do this if you want your LSTM to be stateful\n",
    "    #model.hidden = model.init_hidden()\n",
    "    \n",
    "    # Forward pass\n",
    "    y_train_pred = model(x_train)\n",
    "\n",
    "    loss = loss_fn(y_train_pred, y_train)\n",
    "    if t % 10 == 0 and t !=0:\n",
    "        print(\"Epoch \", t, \"MSE: \", loss.item())\n",
    "    hist1[t] = loss.item()\n",
    "\n",
    "    # Zero out gradient, else they will accumulate between epochs\n",
    "    optimiser.zero_grad()\n",
    "\n",
    "    # Backward pass\n",
    "    loss.backward()\n",
    "\n",
    "    # Update parameters\n",
    "    optimiser.step()"
   ]
  },
  {
   "cell_type": "code",
   "execution_count": 162,
   "metadata": {},
   "outputs": [],
   "source": [
    "torch.save(model.state_dict(),'model1.pth')\n",
    "#model = LSTM(nn.Module)\n",
    "#model.load_state_dict(torch.load('model1.pth'))\n",
    "#model.eval()"
   ]
  },
  {
   "cell_type": "code",
   "execution_count": 163,
   "metadata": {},
   "outputs": [
    {
     "data": {
      "image/png": "[encoded data removed]",
      "text/plain": [
       "<Figure size 432x288 with 4 Axes>"
      ]
     },
     "metadata": {
      "needs_background": "light"
     },
     "output_type": "display_data"
    }
   ],
   "source": [
    "from pylab import *\n",
    "plt.figure()\n",
    "subplot(2,2,1)\n",
    "plt.plot(y_train_pred.detach().numpy()[:,0], label=\"Preds open\")\n",
    "plt.plot(y_train.detach().numpy()[:,0], label=\"Data open\")\n",
    "plt.legend()\n",
    "\n",
    "subplot(2,2,2)\n",
    "plt.plot(y_train_pred.detach().numpy()[:,1], label=\"Preds high\")\n",
    "plt.plot(y_train.detach().numpy()[:,1], label=\"Data high\")\n",
    "plt.legend()\n",
    "\n",
    "subplot(2,2,3)\n",
    "plt.plot(y_train_pred.detach().numpy()[:,2], label=\"Preds low\")\n",
    "plt.plot(y_train.detach().numpy()[:,2], label=\"Data low\")\n",
    "plt.legend()\n",
    "\n",
    "subplot(2,2,4)\n",
    "plt.plot(y_train_pred.detach().numpy()[:,3], label=\"Preds close\")\n",
    "plt.plot(y_train.detach().numpy()[:,3], label=\"Data close\")\n",
    "plt.legend()\n",
    "plt.show()\n"
   ]
  },
  {
   "cell_type": "code",
   "execution_count": 164,
   "metadata": {},
   "outputs": [
    {
     "data": {
      "image/png": "[encoded data removed]",
      "text/plain": [
       "<Figure size 432x288 with 1 Axes>"
      ]
     },
     "metadata": {
      "needs_background": "light"
     },
     "output_type": "display_data"
    }
   ],
   "source": [
    "plt.plot(hist1, label=\"Training loss\")\n",
    "plt.legend()\n",
    "plt.show()"
   ]
  },
  {
   "cell_type": "code",
   "execution_count": 165,
   "metadata": {},
   "outputs": [
    {
     "data": {
      "text/plain": [
       "torch.Size([8084, 4])"
      ]
     },
     "execution_count": 165,
     "metadata": {},
     "output_type": "execute_result"
    }
   ],
   "source": [
    "np.shape(y_train_pred)"
   ]
  },
  {
   "cell_type": "code",
   "execution_count": 166,
   "metadata": {},
   "outputs": [
    {
     "name": "stdout",
     "output_type": "stream",
     "text": [
      "Train Score: 1.45 RMSE\n",
      "Test Score: 0.93 RMSE\n"
     ]
    }
   ],
   "source": [
    "# make predictions\n",
    "y_test_pred = model(x_test)\n",
    "\n",
    "# invert predictions\n",
    "y_train_pred_inv = scaler.inverse_transform(y_train_pred.detach().numpy())\n",
    "y_train_inv = scaler.inverse_transform(y_train.detach().numpy())\n",
    "y_test_pred_inv = scaler.inverse_transform(y_test_pred.detach().numpy())\n",
    "y_test_inv = scaler.inverse_transform(y_test.detach().numpy())\n",
    "\n",
    "# calculate root mean squared error\n",
    "trainScore = math.sqrt(mean_squared_error(y_train_inv, y_train_pred_inv))\n",
    "print('Train Score: %.2f RMSE' % (trainScore))\n",
    "testScore = math.sqrt(mean_squared_error(y_test_inv, y_test_pred_inv))\n",
    "print('Test Score: %.2f RMSE' % (testScore))"
   ]
  },
  {
   "cell_type": "code",
   "execution_count": 167,
   "metadata": {
    "scrolled": true
   },
   "outputs": [
    {
     "data": {
      "image/png": "[encoded data removed]",
      "text/plain": [
       "<Figure size 432x288 with 4 Axes>"
      ]
     },
     "metadata": {
      "needs_background": "light"
     },
     "output_type": "display_data"
    }
   ],
   "source": [
    "# plot baseline and predictions\n",
    "\n",
    "subplot(2,2,1)\n",
    "plt.plot(y_test_inv[:,0], label='test open')\n",
    "plt.plot(y_test_pred_inv[:,0],label='pred open')\n",
    "plt.legend()\n",
    "\n",
    "subplot(2,2,2)\n",
    "plt.plot(y_test_inv[:,1], label='test high')\n",
    "plt.plot(y_test_pred_inv[:,1],label='pred high')\n",
    "plt.legend()\n",
    "\n",
    "subplot(2,2,3)\n",
    "plt.plot(y_test_inv[:,2], label='test low')\n",
    "plt.plot(y_test_pred_inv[:,2],label='pred low')\n",
    "plt.legend()\n",
    "\n",
    "subplot(2,2,4)\n",
    "plt.plot(y_test_inv[:,3], label='test close')\n",
    "plt.plot(y_test_pred_inv[:,3],label='pred close')\n",
    "plt.legend()\n",
    "plt.show()"
   ]
  },
  {
   "cell_type": "code",
   "execution_count": 107,
   "metadata": {},
   "outputs": [
    {
     "data": {
      "text/plain": [
       "(2000, 4)"
      ]
     },
     "execution_count": 107,
     "metadata": {},
     "output_type": "execute_result"
    }
   ],
   "source": [
    "y_test_inv.shape"
   ]
  },
  {
   "cell_type": "code",
   "execution_count": null,
   "metadata": {},
   "outputs": [],
   "source": []
  }
 ],
 "metadata": {
  "kernelspec": {
   "display_name": "Python 3",
   "language": "python",
   "name": "python3"
  },
  "language_info": {
   "codemirror_mode": {
    "name": "ipython",
    "version": 3
   },
   "file_extension": ".py",
   "mimetype": "text/x-python",
   "name": "python",
   "nbconvert_exporter": "python",
   "pygments_lexer": "ipython3",
   "version": "3.7.6"
  }
 },
 "nbformat": 4,
 "nbformat_minor": 4
}
