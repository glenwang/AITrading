{
 "cells": [
  {
   "cell_type": "code",
   "execution_count": 4,
   "metadata": {},
   "outputs": [],
   "source": [
    "import pandas as pd\n",
    "from alpha_vantage.timeseries import TimeSeries\n",
    "from alpha_vantage.techindicators import TechIndicators\n",
    "from matplotlib.pyplot import figure\n",
    "import matplotlib.pyplot as plt\n"
   ]
  },
  {
   "cell_type": "code",
   "execution_count": 12,
   "metadata": {},
   "outputs": [],
   "source": [
    "# stock data API alpha_vantage, documentation https://www.alphavantage.co/documentation/\n",
    "key = 'A6QPO3VBTX5UHOAU'\n",
    "# Chose your output format, or default to JSON (python dict)\n",
    "ts = TimeSeries(key, output_format='pandas')\n",
    "ti = TechIndicators(key)\n",
    "\n",
    "ticker='AAPL'\n",
    "# Get the data, returns a tuple\n",
    "# aapl_data is a pandas dataframe, aapl_meta_data is a dict\n",
    "aapl_data, aapl_meta_data = ts.get_intraday(symbol=ticker) #for intraday price, ts.get_intraday. Daily price, ts.get_daily\n",
    "# aapl_sma is a dict, aapl_meta_sma also a dict\n",
    "aapl_sma, aapl_meta_sma = ti.get_sma(symbol=ticker)"
   ]
  },
  {
   "cell_type": "code",
   "execution_count": 17,
   "metadata": {},
   "outputs": [
    {
     "data": {
      "text/html": [
       "<div>\n",
       "<style scoped>\n",
       "    .dataframe tbody tr th:only-of-type {\n",
       "        vertical-align: middle;\n",
       "    }\n",
       "\n",
       "    .dataframe tbody tr th {\n",
       "        vertical-align: top;\n",
       "    }\n",
       "\n",
       "    .dataframe thead th {\n",
       "        text-align: right;\n",
       "    }\n",
       "</style>\n",
       "<table border=\"1\" class=\"dataframe\">\n",
       "  <thead>\n",
       "    <tr style=\"text-align: right;\">\n",
       "      <th></th>\n",
       "      <th>open</th>\n",
       "      <th>high</th>\n",
       "      <th>low</th>\n",
       "      <th>close</th>\n",
       "      <th>volume</th>\n",
       "    </tr>\n",
       "    <tr>\n",
       "      <th>date</th>\n",
       "      <th></th>\n",
       "      <th></th>\n",
       "      <th></th>\n",
       "      <th></th>\n",
       "      <th></th>\n",
       "    </tr>\n",
       "  </thead>\n",
       "  <tbody>\n",
       "    <tr>\n",
       "      <th>2020-06-05 16:00:00</th>\n",
       "      <td>331.2100</td>\n",
       "      <td>331.8000</td>\n",
       "      <td>330.2000</td>\n",
       "      <td>331.6400</td>\n",
       "      <td>2317255.0</td>\n",
       "    </tr>\n",
       "    <tr>\n",
       "      <th>2020-06-05 15:45:00</th>\n",
       "      <td>331.4700</td>\n",
       "      <td>331.7500</td>\n",
       "      <td>331.1500</td>\n",
       "      <td>331.1800</td>\n",
       "      <td>1188071.0</td>\n",
       "    </tr>\n",
       "    <tr>\n",
       "      <th>2020-06-05 15:30:00</th>\n",
       "      <td>330.4400</td>\n",
       "      <td>331.5900</td>\n",
       "      <td>330.1026</td>\n",
       "      <td>331.4900</td>\n",
       "      <td>1197757.0</td>\n",
       "    </tr>\n",
       "    <tr>\n",
       "      <th>2020-06-05 15:15:00</th>\n",
       "      <td>330.2501</td>\n",
       "      <td>330.4700</td>\n",
       "      <td>329.8200</td>\n",
       "      <td>330.3900</td>\n",
       "      <td>622539.0</td>\n",
       "    </tr>\n",
       "    <tr>\n",
       "      <th>2020-06-05 15:00:00</th>\n",
       "      <td>330.1300</td>\n",
       "      <td>330.7100</td>\n",
       "      <td>330.0700</td>\n",
       "      <td>330.2450</td>\n",
       "      <td>615819.0</td>\n",
       "    </tr>\n",
       "    <tr>\n",
       "      <th>2020-06-05 14:45:00</th>\n",
       "      <td>330.0200</td>\n",
       "      <td>330.2400</td>\n",
       "      <td>329.2500</td>\n",
       "      <td>330.1500</td>\n",
       "      <td>849819.0</td>\n",
       "    </tr>\n",
       "    <tr>\n",
       "      <th>2020-06-05 14:30:00</th>\n",
       "      <td>329.8700</td>\n",
       "      <td>330.5500</td>\n",
       "      <td>329.7200</td>\n",
       "      <td>330.0200</td>\n",
       "      <td>635363.0</td>\n",
       "    </tr>\n",
       "    <tr>\n",
       "      <th>2020-06-05 14:15:00</th>\n",
       "      <td>330.3000</td>\n",
       "      <td>330.6900</td>\n",
       "      <td>329.7900</td>\n",
       "      <td>329.8510</td>\n",
       "      <td>636712.0</td>\n",
       "    </tr>\n",
       "    <tr>\n",
       "      <th>2020-06-05 14:00:00</th>\n",
       "      <td>330.8750</td>\n",
       "      <td>330.9900</td>\n",
       "      <td>330.1371</td>\n",
       "      <td>330.3100</td>\n",
       "      <td>527479.0</td>\n",
       "    </tr>\n",
       "    <tr>\n",
       "      <th>2020-06-05 13:45:00</th>\n",
       "      <td>330.6500</td>\n",
       "      <td>331.1200</td>\n",
       "      <td>330.6300</td>\n",
       "      <td>330.8900</td>\n",
       "      <td>803280.0</td>\n",
       "    </tr>\n",
       "    <tr>\n",
       "      <th>2020-06-05 13:30:00</th>\n",
       "      <td>329.8300</td>\n",
       "      <td>330.7200</td>\n",
       "      <td>329.8100</td>\n",
       "      <td>330.6476</td>\n",
       "      <td>1161093.0</td>\n",
       "    </tr>\n",
       "    <tr>\n",
       "      <th>2020-06-05 13:15:00</th>\n",
       "      <td>329.9200</td>\n",
       "      <td>330.0000</td>\n",
       "      <td>329.4600</td>\n",
       "      <td>329.8573</td>\n",
       "      <td>455133.0</td>\n",
       "    </tr>\n",
       "    <tr>\n",
       "      <th>2020-06-05 13:00:00</th>\n",
       "      <td>329.6400</td>\n",
       "      <td>330.0000</td>\n",
       "      <td>329.4700</td>\n",
       "      <td>329.9500</td>\n",
       "      <td>519764.0</td>\n",
       "    </tr>\n",
       "    <tr>\n",
       "      <th>2020-06-05 12:45:00</th>\n",
       "      <td>329.4233</td>\n",
       "      <td>330.0000</td>\n",
       "      <td>329.2800</td>\n",
       "      <td>329.6099</td>\n",
       "      <td>590967.0</td>\n",
       "    </tr>\n",
       "    <tr>\n",
       "      <th>2020-06-05 12:30:00</th>\n",
       "      <td>329.8100</td>\n",
       "      <td>329.8299</td>\n",
       "      <td>329.0200</td>\n",
       "      <td>329.4299</td>\n",
       "      <td>657158.0</td>\n",
       "    </tr>\n",
       "  </tbody>\n",
       "</table>\n",
       "</div>"
      ],
      "text/plain": [
       "                         open      high       low     close     volume\n",
       "date                                                                  \n",
       "2020-06-05 16:00:00  331.2100  331.8000  330.2000  331.6400  2317255.0\n",
       "2020-06-05 15:45:00  331.4700  331.7500  331.1500  331.1800  1188071.0\n",
       "2020-06-05 15:30:00  330.4400  331.5900  330.1026  331.4900  1197757.0\n",
       "2020-06-05 15:15:00  330.2501  330.4700  329.8200  330.3900   622539.0\n",
       "2020-06-05 15:00:00  330.1300  330.7100  330.0700  330.2450   615819.0\n",
       "2020-06-05 14:45:00  330.0200  330.2400  329.2500  330.1500   849819.0\n",
       "2020-06-05 14:30:00  329.8700  330.5500  329.7200  330.0200   635363.0\n",
       "2020-06-05 14:15:00  330.3000  330.6900  329.7900  329.8510   636712.0\n",
       "2020-06-05 14:00:00  330.8750  330.9900  330.1371  330.3100   527479.0\n",
       "2020-06-05 13:45:00  330.6500  331.1200  330.6300  330.8900   803280.0\n",
       "2020-06-05 13:30:00  329.8300  330.7200  329.8100  330.6476  1161093.0\n",
       "2020-06-05 13:15:00  329.9200  330.0000  329.4600  329.8573   455133.0\n",
       "2020-06-05 13:00:00  329.6400  330.0000  329.4700  329.9500   519764.0\n",
       "2020-06-05 12:45:00  329.4233  330.0000  329.2800  329.6099   590967.0\n",
       "2020-06-05 12:30:00  329.8100  329.8299  329.0200  329.4299   657158.0"
      ]
     },
     "execution_count": 17,
     "metadata": {},
     "output_type": "execute_result"
    }
   ],
   "source": [
    "df=aapl_data\n",
    "df=df.rename(columns={'1. open':'open','2. high':'high','3. low':'low', '4. close':'close', '5. volume':'volume'})\n",
    "df.to_csv('priceData.csv')\n",
    "#read data from the csv file\n",
    "#df=pd.read_csv('priceData.csv').set_index(['date'])\n",
    "df.head(15)"
   ]
  },
  {
   "cell_type": "code",
   "execution_count": 46,
   "metadata": {},
   "outputs": [
    {
     "data": {
      "text/html": [
       "<div>\n",
       "<style scoped>\n",
       "    .dataframe tbody tr th:only-of-type {\n",
       "        vertical-align: middle;\n",
       "    }\n",
       "\n",
       "    .dataframe tbody tr th {\n",
       "        vertical-align: top;\n",
       "    }\n",
       "\n",
       "    .dataframe thead th {\n",
       "        text-align: right;\n",
       "    }\n",
       "</style>\n",
       "<table border=\"1\" class=\"dataframe\">\n",
       "  <thead>\n",
       "    <tr style=\"text-align: right;\">\n",
       "      <th></th>\n",
       "      <th>open</th>\n",
       "      <th>high</th>\n",
       "      <th>low</th>\n",
       "      <th>close</th>\n",
       "      <th>highOpen</th>\n",
       "      <th>lowOpen</th>\n",
       "      <th>closeOpen</th>\n",
       "      <th>MA5</th>\n",
       "    </tr>\n",
       "    <tr>\n",
       "      <th>date</th>\n",
       "      <th></th>\n",
       "      <th></th>\n",
       "      <th></th>\n",
       "      <th></th>\n",
       "      <th></th>\n",
       "      <th></th>\n",
       "      <th></th>\n",
       "      <th></th>\n",
       "    </tr>\n",
       "  </thead>\n",
       "  <tbody>\n",
       "    <tr>\n",
       "      <th>2020-06-05 16:00:00</th>\n",
       "      <td>1.028602</td>\n",
       "      <td>1.030435</td>\n",
       "      <td>1.025466</td>\n",
       "      <td>1.029938</td>\n",
       "      <td>0.001781</td>\n",
       "      <td>-0.003049</td>\n",
       "      <td>0.001298</td>\n",
       "      <td>1.027019</td>\n",
       "    </tr>\n",
       "    <tr>\n",
       "      <th>2020-06-05 15:45:00</th>\n",
       "      <td>1.029410</td>\n",
       "      <td>1.030280</td>\n",
       "      <td>1.028416</td>\n",
       "      <td>1.028509</td>\n",
       "      <td>0.000845</td>\n",
       "      <td>-0.000965</td>\n",
       "      <td>-0.000875</td>\n",
       "      <td>1.026280</td>\n",
       "    </tr>\n",
       "    <tr>\n",
       "      <th>2020-06-05 15:30:00</th>\n",
       "      <td>1.026211</td>\n",
       "      <td>1.029783</td>\n",
       "      <td>1.025163</td>\n",
       "      <td>1.029472</td>\n",
       "      <td>0.003480</td>\n",
       "      <td>-0.001021</td>\n",
       "      <td>0.003178</td>\n",
       "      <td>1.025286</td>\n",
       "    </tr>\n",
       "    <tr>\n",
       "      <th>2020-06-05 15:15:00</th>\n",
       "      <td>1.025621</td>\n",
       "      <td>1.026304</td>\n",
       "      <td>1.024286</td>\n",
       "      <td>1.026056</td>\n",
       "      <td>0.000666</td>\n",
       "      <td>-0.001302</td>\n",
       "      <td>0.000424</td>\n",
       "      <td>1.025199</td>\n",
       "    </tr>\n",
       "    <tr>\n",
       "      <th>2020-06-05 15:00:00</th>\n",
       "      <td>1.025248</td>\n",
       "      <td>1.027050</td>\n",
       "      <td>1.025062</td>\n",
       "      <td>1.025606</td>\n",
       "      <td>0.001757</td>\n",
       "      <td>-0.000182</td>\n",
       "      <td>0.000348</td>\n",
       "      <td>1.025587</td>\n",
       "    </tr>\n",
       "    <tr>\n",
       "      <th>...</th>\n",
       "      <td>...</td>\n",
       "      <td>...</td>\n",
       "      <td>...</td>\n",
       "      <td>...</td>\n",
       "      <td>...</td>\n",
       "      <td>...</td>\n",
       "      <td>...</td>\n",
       "      <td>...</td>\n",
       "    </tr>\n",
       "    <tr>\n",
       "      <th>2020-06-02 11:45:00</th>\n",
       "      <td>0.991661</td>\n",
       "      <td>0.995062</td>\n",
       "      <td>0.990963</td>\n",
       "      <td>0.994068</td>\n",
       "      <td>0.003429</td>\n",
       "      <td>-0.000705</td>\n",
       "      <td>0.002427</td>\n",
       "      <td>0.994891</td>\n",
       "    </tr>\n",
       "    <tr>\n",
       "      <th>2020-06-02 11:30:00</th>\n",
       "      <td>0.990839</td>\n",
       "      <td>0.993509</td>\n",
       "      <td>0.990466</td>\n",
       "      <td>0.991663</td>\n",
       "      <td>0.002696</td>\n",
       "      <td>-0.000376</td>\n",
       "      <td>0.000832</td>\n",
       "      <td>NaN</td>\n",
       "    </tr>\n",
       "    <tr>\n",
       "      <th>2020-06-02 11:15:00</th>\n",
       "      <td>0.995280</td>\n",
       "      <td>0.995497</td>\n",
       "      <td>0.990683</td>\n",
       "      <td>0.990978</td>\n",
       "      <td>0.000218</td>\n",
       "      <td>-0.004618</td>\n",
       "      <td>-0.004322</td>\n",
       "      <td>NaN</td>\n",
       "    </tr>\n",
       "    <tr>\n",
       "      <th>2020-06-02 11:00:00</th>\n",
       "      <td>0.996677</td>\n",
       "      <td>0.997484</td>\n",
       "      <td>0.994317</td>\n",
       "      <td>0.995373</td>\n",
       "      <td>0.000810</td>\n",
       "      <td>-0.002368</td>\n",
       "      <td>-0.001309</td>\n",
       "      <td>NaN</td>\n",
       "    </tr>\n",
       "    <tr>\n",
       "      <th>2020-06-02 10:45:00</th>\n",
       "      <td>1.000000</td>\n",
       "      <td>1.000311</td>\n",
       "      <td>0.996615</td>\n",
       "      <td>0.996646</td>\n",
       "      <td>0.000311</td>\n",
       "      <td>-0.003385</td>\n",
       "      <td>-0.003354</td>\n",
       "      <td>NaN</td>\n",
       "    </tr>\n",
       "  </tbody>\n",
       "</table>\n",
       "<p>100 rows × 8 columns</p>\n",
       "</div>"
      ],
      "text/plain": [
       "                         open      high       low     close  highOpen  \\\n",
       "date                                                                    \n",
       "2020-06-05 16:00:00  1.028602  1.030435  1.025466  1.029938  0.001781   \n",
       "2020-06-05 15:45:00  1.029410  1.030280  1.028416  1.028509  0.000845   \n",
       "2020-06-05 15:30:00  1.026211  1.029783  1.025163  1.029472  0.003480   \n",
       "2020-06-05 15:15:00  1.025621  1.026304  1.024286  1.026056  0.000666   \n",
       "2020-06-05 15:00:00  1.025248  1.027050  1.025062  1.025606  0.001757   \n",
       "...                       ...       ...       ...       ...       ...   \n",
       "2020-06-02 11:45:00  0.991661  0.995062  0.990963  0.994068  0.003429   \n",
       "2020-06-02 11:30:00  0.990839  0.993509  0.990466  0.991663  0.002696   \n",
       "2020-06-02 11:15:00  0.995280  0.995497  0.990683  0.990978  0.000218   \n",
       "2020-06-02 11:00:00  0.996677  0.997484  0.994317  0.995373  0.000810   \n",
       "2020-06-02 10:45:00  1.000000  1.000311  0.996615  0.996646  0.000311   \n",
       "\n",
       "                      lowOpen  closeOpen       MA5  \n",
       "date                                                \n",
       "2020-06-05 16:00:00 -0.003049   0.001298  1.027019  \n",
       "2020-06-05 15:45:00 -0.000965  -0.000875  1.026280  \n",
       "2020-06-05 15:30:00 -0.001021   0.003178  1.025286  \n",
       "2020-06-05 15:15:00 -0.001302   0.000424  1.025199  \n",
       "2020-06-05 15:00:00 -0.000182   0.000348  1.025587  \n",
       "...                       ...        ...       ...  \n",
       "2020-06-02 11:45:00 -0.000705   0.002427  0.994891  \n",
       "2020-06-02 11:30:00 -0.000376   0.000832       NaN  \n",
       "2020-06-02 11:15:00 -0.004618  -0.004322       NaN  \n",
       "2020-06-02 11:00:00 -0.002368  -0.001309       NaN  \n",
       "2020-06-02 10:45:00 -0.003385  -0.003354       NaN  \n",
       "\n",
       "[100 rows x 8 columns]"
      ]
     },
     "execution_count": 46,
     "metadata": {},
     "output_type": "execute_result"
    }
   ],
   "source": [
    "dfRatio = df[['open','high', 'low','close']]/df['open'].iloc[-1]\n",
    "dfRatio['highOpen']=dfRatio['high']/dfRatio['open']-1\n",
    "dfRatio['lowOpen']=dfRatio['low']/dfRatio['open']-1\n",
    "dfRatio['closeOpen']=dfRatio['close']/dfRatio['open']-1\n",
    "dfRatio['MA5']=dfRatio['open'].rolling(window=5).mean().shift(-4)\n",
    "dfRatio.to_csv('priceDataRatio.csv')\n",
    "#read data from the csv file\n",
    "#df=pd.read_csv('priceDataRatio.csv').set_index(['date'])\n",
    "dfRatio"
   ]
  },
  {
   "cell_type": "code",
   "execution_count": 47,
   "metadata": {},
   "outputs": [
    {
     "data": {
      "text/plain": [
       "<matplotlib.legend.Legend at 0x1222ff750>"
      ]
     },
     "execution_count": 47,
     "metadata": {},
     "output_type": "execute_result"
    },
    {
     "data": {
      "text/plain": [
       "<Figure size 432x288 with 0 Axes>"
      ]
     },
     "metadata": {},
     "output_type": "display_data"
    },
    {
     "data": {
      "image/png": "[encoded data removed]",
      "text/plain": [
       "<Figure size 432x288 with 1 Axes>"
      ]
     },
     "metadata": {
      "needs_background": "light"
     },
     "output_type": "display_data"
    }
   ],
   "source": [
    "plt.figure(); dfRatio.plot(y=['open','MA5']); plt.legend(loc='best')\n",
    "#the figure has datetime gaps, but the MA works "
   ]
  },
  {
   "cell_type": "code",
   "execution_count": 45,
   "metadata": {},
   "outputs": [
    {
     "data": {
      "application/vnd.plotly.v1+json": {
       "config": {
        "plotlyServerURL": "https://plot.ly"
       },
       "data": [
        {
         "close": [
          1.0299378881987578,
          1.0285093167701864,
          1.029472049689441,
          1.026055900621118,
          1.0256055900621117,
          1.025310559006211,
          1.0249068322981365,
          1.0243819875776397,
          1.025807453416149,
          1.027608695652174,
          1.026855900621118,
          1.024401552795031,
          1.0246894409937888,
          1.0236332298136646,
          1.0230742236024843,
          1.024254658385093,
          1.02366149068323,
          1.0216145962732919,
          1.0214285714285714,
          1.0182919254658385,
          1.0184788819875776,
          1.0167857142857142,
          1.0144099378881988,
          1.0150490683229814,
          1.015,
          1.0152795031055901,
          1.001055900621118,
          0.9991925465838509,
          0.9991316770186335,
          0.997877950310559,
          0.9964906832298137,
          0.9992546583850931,
          1.0035791925465838,
          1.0048447204968944,
          1.005248447204969,
          1.0054037267080747,
          1.0022981366459627,
          1.002953105590062,
          1.001583850931677,
          1.0033229813664597,
          1.005776397515528,
          1.0050000000000001,
          1.0065838509316771,
          1.0059316770186335,
          1.0047826086956522,
          1.004622049689441,
          1.0082919254658385,
          1.0093167701863355,
          1.0096273291925466,
          1.0080745341614907,
          1.008416149068323,
          1.0084021739130433,
          1.0096273291925466,
          1.011304347826087,
          1.0114518633540373,
          1.0092546583850932,
          1.0078577639751551,
          1.0091614906832298,
          1.0066770186335403,
          1.006972049689441,
          1.0062422360248446,
          1.0066614906832299,
          1.0072670807453414,
          1.004534161490683,
          1.0040683229813665,
          1.0057732919254658,
          1.0031835403726708,
          1.0025776397515527,
          1.005248447204969,
          1.0043478260869565,
          1.0059937888198758,
          1.0065838509316771,
          1.0059658385093166,
          1.004534161490683,
          1.0056521739130435,
          1.0048136645962733,
          1.007639751552795,
          1.0063664596273292,
          1.0042236024844722,
          0.9995652173913044,
          0.9995031055900621,
          0.99972049689441,
          0.9999689440993789,
          0.9992857142857142,
          0.9999378881987578,
          0.9989130434782608,
          0.999205900621118,
          1.0002484472049689,
          0.9989130434782608,
          0.9976086956521739,
          0.9970496894409938,
          0.9964527950310559,
          0.9955900621118012,
          0.9948136645962733,
          0.9929192546583852,
          0.9940683229813664,
          0.9916630434782608,
          0.9909782608695653,
          0.9953726708074534,
          0.9966459627329193
         ],
         "high": [
          1.0304347826086957,
          1.03027950310559,
          1.029782608695652,
          1.0263043478260871,
          1.0270496894409937,
          1.0255900621118013,
          1.026552795031056,
          1.0269875776397515,
          1.027919254658385,
          1.0283229813664596,
          1.027080745341615,
          1.0248447204968945,
          1.0248447204968945,
          1.0248447204968945,
          1.0243164596273293,
          1.0248447204968945,
          1.0242236024844722,
          1.0234782608695652,
          1.0217391304347827,
          1.0204658385093166,
          1.0186335403726707,
          1.0172981366459628,
          1.0151242236024844,
          1.0154347826086958,
          1.0186335403726707,
          1.0153726708074533,
          1.0011180124223602,
          1.0002481366459628,
          0.9995034161490683,
          0.9996583850931676,
          1.000527950310559,
          1.0039130434782608,
          1.0049068322981365,
          1.005745341614907,
          1.0059937888198758,
          1.00555900621118,
          1.0040993788819876,
          1.0038819875776397,
          1.003804347826087,
          1.0059006211180124,
          1.007329192546584,
          1.0068944099378883,
          1.0070496894409937,
          1.006614906832298,
          1.0054347826086956,
          1.008664596273292,
          1.0102484472049689,
          1.0112422360248448,
          1.0101242236024845,
          1.009472049689441,
          1.0112142857142856,
          1.009472049689441,
          1.0130434782608695,
          1.011863354037267,
          1.0114596273291925,
          1.0096273291925466,
          1.0093167701863355,
          1.009223602484472,
          1.007329192546584,
          1.0082298136645962,
          1.0072981366459628,
          1.0074534161490682,
          1.0074844720496896,
          1.0051242236024844,
          1.006024844720497,
          1.00583850931677,
          1.0032919254658386,
          1.0052950310559006,
          1.0059627329192546,
          1.006055900621118,
          1.0072670807453414,
          1.0080434782608696,
          1.0069875776397517,
          1.0064906832298135,
          1.006304347826087,
          1.0087888198757764,
          1.0088509316770187,
          1.0093167701863355,
          1.004472049689441,
          1.0002484472049689,
          1.000527950310559,
          1.000527950310559,
          1.0005590062111802,
          1.0002484472049689,
          1.0009627329192547,
          0.9998447204968943,
          1.0006211180124223,
          1.00027950310559,
          0.9990680124223603,
          0.9982919254658384,
          0.9972360248447205,
          0.9964596273291926,
          0.9959627329192546,
          0.995,
          0.9952484472049691,
          0.9950621118012423,
          0.9935093167701864,
          0.9954965838509316,
          0.9974844720496895,
          1.0003105590062114
         ],
         "low": [
          1.0254658385093167,
          1.028416149068323,
          1.025163354037267,
          1.0242857142857142,
          1.0250621118012422,
          1.0225155279503106,
          1.0239751552795031,
          1.024192546583851,
          1.02527049689441,
          1.0268012422360249,
          1.024254658385093,
          1.023167701863354,
          1.0231987577639752,
          1.0226086956521738,
          1.0218012422360248,
          1.0217701863354036,
          1.021583850931677,
          1.0197826086956523,
          1.017888198757764,
          1.0174636645962731,
          1.0168012422360249,
          1.01388198757764,
          1.0124844720496893,
          1.0115527950310559,
          1.0112422360248448,
          1.0038198757763976,
          0.9970496894409938,
          0.9986645962732918,
          0.9962111801242235,
          0.9964906832298137,
          0.9964906832298137,
          0.9991925465838509,
          1.0032608695652174,
          1.0041226708074533,
          1.0045652173913044,
          1.0022360248447206,
          1.002111801242236,
          1.0013664596273293,
          1.0013975155279502,
          1.0029192546583852,
          1.0046894409937888,
          1.0048757763975156,
          1.0054037267080747,
          1.0037267080745342,
          1.0026397515527952,
          1.0043167701863354,
          1.0079813664596273,
          1.0088198757763975,
          1.0081055900621119,
          1.0075487577639752,
          1.007608695652174,
          1.0067701863354037,
          1.0090062111801241,
          1.0099068322981366,
          1.0082608695652175,
          1.0069875776397517,
          1.0078571428571428,
          1.006552795031056,
          1.0062111801242235,
          1.005776397515528,
          1.0048757763975156,
          1.0056832298136646,
          1.0045031055900622,
          1.0035717391304348,
          1.0038819875776397,
          1.0031055900621118,
          1.0009316770186336,
          1.0022981366459627,
          1.0041614906832297,
          1.0043167701863354,
          1.0049068322981365,
          1.0054347826086956,
          1.0040372670807454,
          1.0038509316770186,
          1.0042236024844722,
          1.0032919254658386,
          1.005310559006211,
          1.0014285714285713,
          0.9991614906832299,
          0.9980434782608696,
          0.9978571428571429,
          0.9990372670807454,
          0.9992236024844721,
          0.9977639751552794,
          0.9986645962732918,
          0.9982608695652174,
          0.9987577639751554,
          0.9984472049689441,
          0.9971739130434781,
          0.996832298136646,
          0.9962111801242235,
          0.9947826086956522,
          0.9939130434782609,
          0.9927018633540372,
          0.9924844720496894,
          0.9909627329192546,
          0.9904658385093168,
          0.9906832298136646,
          0.9943167701863355,
          0.9966149068322983
         ],
         "open": [
          1.0286024844720496,
          1.029409937888199,
          1.0262111801242235,
          1.0256214285714285,
          1.025248447204969,
          1.0249068322981365,
          1.02444099378882,
          1.025776397515528,
          1.0275621118012421,
          1.026863354037267,
          1.0243167701863354,
          1.0245962732919256,
          1.023726708074534,
          1.0230537267080744,
          1.024254658385093,
          1.0236406832298137,
          1.021583850931677,
          1.021366459627329,
          1.0183540372670807,
          1.0185093167701862,
          1.0168012422360249,
          1.01444099378882,
          1.015031055900621,
          1.0149689440993788,
          1.0154347826086958,
          1.004192546583851,
          0.9992236024844721,
          0.9992546583850931,
          0.9978260869565218,
          0.9965372670807453,
          0.9991583850931677,
          1.0036024844720497,
          1.0048757763975156,
          1.005035403726708,
          1.0054968944099378,
          1.0023291925465838,
          1.002950310559006,
          1.0015683229813666,
          1.0033034161490684,
          1.0058695652173912,
          1.005031055900621,
          1.0066459627329192,
          1.0059444099378883,
          1.0045962732919256,
          1.0045506211180124,
          1.0082919254658385,
          1.0093478260869564,
          1.009751552795031,
          1.0082298136645962,
          1.0084472049689441,
          1.0083540372670807,
          1.0074223602484471,
          1.0113975155279504,
          1.0114596273291925,
          1.0093978260869565,
          1.0078670807453416,
          1.009192546583851,
          1.0066770186335403,
          1.0069565217391305,
          1.0061180124223603,
          1.0067391304347826,
          1.0072981366459628,
          1.0045652173913044,
          1.0040683229813665,
          1.005764906832298,
          1.0031987577639752,
          1.0026086956521738,
          1.0051242236024844,
          1.0043788819875776,
          1.006055900621118,
          1.0065217391304349,
          1.0059316770186335,
          1.004534161490683,
          1.0056211180124224,
          1.0047826086956522,
          1.0079037267080746,
          1.0064596273291926,
          1.0082608695652175,
          0.9995341614906833,
          0.9994872670807453,
          0.9997515527950311,
          0.9999689440993789,
          0.9993478260869566,
          0.9998782608695652,
          0.9989440993788821,
          0.9992236024844721,
          1.000217701863354,
          0.9989130434782608,
          0.9975776397515529,
          0.9971428571428571,
          0.9964596273291926,
          0.9954968944099379,
          0.9948136645962733,
          0.9928881987577639,
          0.9940378881987577,
          0.9916614906832298,
          0.9908385093167702,
          0.9952795031055901,
          0.9966770186335404,
          1
         ],
         "type": "candlestick",
         "x": [
          "2020-06-05T16:00:00",
          "2020-06-05T15:45:00",
          "2020-06-05T15:30:00",
          "2020-06-05T15:15:00",
          "2020-06-05T15:00:00",
          "2020-06-05T14:45:00",
          "2020-06-05T14:30:00",
          "2020-06-05T14:15:00",
          "2020-06-05T14:00:00",
          "2020-06-05T13:45:00",
          "2020-06-05T13:30:00",
          "2020-06-05T13:15:00",
          "2020-06-05T13:00:00",
          "2020-06-05T12:45:00",
          "2020-06-05T12:30:00",
          "2020-06-05T12:15:00",
          "2020-06-05T12:00:00",
          "2020-06-05T11:45:00",
          "2020-06-05T11:30:00",
          "2020-06-05T11:15:00",
          "2020-06-05T11:00:00",
          "2020-06-05T10:45:00",
          "2020-06-05T10:30:00",
          "2020-06-05T10:15:00",
          "2020-06-05T10:00:00",
          "2020-06-05T09:45:00",
          "2020-06-04T16:00:00",
          "2020-06-04T15:45:00",
          "2020-06-04T15:30:00",
          "2020-06-04T15:15:00",
          "2020-06-04T15:00:00",
          "2020-06-04T14:45:00",
          "2020-06-04T14:30:00",
          "2020-06-04T14:15:00",
          "2020-06-04T14:00:00",
          "2020-06-04T13:45:00",
          "2020-06-04T13:30:00",
          "2020-06-04T13:15:00",
          "2020-06-04T13:00:00",
          "2020-06-04T12:45:00",
          "2020-06-04T12:30:00",
          "2020-06-04T12:15:00",
          "2020-06-04T12:00:00",
          "2020-06-04T11:45:00",
          "2020-06-04T11:30:00",
          "2020-06-04T11:15:00",
          "2020-06-04T11:00:00",
          "2020-06-04T10:45:00",
          "2020-06-04T10:30:00",
          "2020-06-04T10:15:00",
          "2020-06-04T10:00:00",
          "2020-06-04T09:45:00",
          "2020-06-03T16:00:00",
          "2020-06-03T15:45:00",
          "2020-06-03T15:30:00",
          "2020-06-03T15:15:00",
          "2020-06-03T15:00:00",
          "2020-06-03T14:45:00",
          "2020-06-03T14:30:00",
          "2020-06-03T14:15:00",
          "2020-06-03T14:00:00",
          "2020-06-03T13:45:00",
          "2020-06-03T13:30:00",
          "2020-06-03T13:15:00",
          "2020-06-03T13:00:00",
          "2020-06-03T12:45:00",
          "2020-06-03T12:30:00",
          "2020-06-03T12:15:00",
          "2020-06-03T12:00:00",
          "2020-06-03T11:45:00",
          "2020-06-03T11:30:00",
          "2020-06-03T11:15:00",
          "2020-06-03T11:00:00",
          "2020-06-03T10:45:00",
          "2020-06-03T10:30:00",
          "2020-06-03T10:15:00",
          "2020-06-03T10:00:00",
          "2020-06-03T09:45:00",
          "2020-06-02T16:00:00",
          "2020-06-02T15:45:00",
          "2020-06-02T15:30:00",
          "2020-06-02T15:15:00",
          "2020-06-02T15:00:00",
          "2020-06-02T14:45:00",
          "2020-06-02T14:30:00",
          "2020-06-02T14:15:00",
          "2020-06-02T14:00:00",
          "2020-06-02T13:45:00",
          "2020-06-02T13:30:00",
          "2020-06-02T13:15:00",
          "2020-06-02T13:00:00",
          "2020-06-02T12:45:00",
          "2020-06-02T12:30:00",
          "2020-06-02T12:15:00",
          "2020-06-02T12:00:00",
          "2020-06-02T11:45:00",
          "2020-06-02T11:30:00",
          "2020-06-02T11:15:00",
          "2020-06-02T11:00:00",
          "2020-06-02T10:45:00"
         ]
        }
       ],
       "layout": {
        "template": {
         "data": {
          "bar": [
           {
            "error_x": {
             "color": "#2a3f5f"
            },
            "error_y": {
             "color": "#2a3f5f"
            },
            "marker": {
             "line": {
              "color": "#E5ECF6",
              "width": 0.5
             }
            },
            "type": "bar"
           }
          ],
          "barpolar": [
           {
            "marker": {
             "line": {
              "color": "#E5ECF6",
              "width": 0.5
             }
            },
            "type": "barpolar"
           }
          ],
          "carpet": [
           {
            "aaxis": {
             "endlinecolor": "#2a3f5f",
             "gridcolor": "white",
             "linecolor": "white",
             "minorgridcolor": "white",
             "startlinecolor": "#2a3f5f"
            },
            "baxis": {
             "endlinecolor": "#2a3f5f",
             "gridcolor": "white",
             "linecolor": "white",
             "minorgridcolor": "white",
             "startlinecolor": "#2a3f5f"
            },
            "type": "carpet"
           }
          ],
          "choropleth": [
           {
            "colorbar": {
             "outlinewidth": 0,
             "ticks": ""
            },
            "type": "choropleth"
           }
          ],
          "contour": [
           {
            "colorbar": {
             "outlinewidth": 0,
             "ticks": ""
            },
            "colorscale": [
             [
              0,
              "#0d0887"
             ],
             [
              0.1111111111111111,
              "#46039f"
             ],
             [
              0.2222222222222222,
              "#7201a8"
             ],
             [
              0.3333333333333333,
              "#9c179e"
             ],
             [
              0.4444444444444444,
              "#bd3786"
             ],
             [
              0.5555555555555556,
              "#d8576b"
             ],
             [
              0.6666666666666666,
              "#ed7953"
             ],
             [
              0.7777777777777778,
              "#fb9f3a"
             ],
             [
              0.8888888888888888,
              "#fdca26"
             ],
             [
              1,
              "#f0f921"
             ]
            ],
            "type": "contour"
           }
          ],
          "contourcarpet": [
           {
            "colorbar": {
             "outlinewidth": 0,
             "ticks": ""
            },
            "type": "contourcarpet"
           }
          ],
          "heatmap": [
           {
            "colorbar": {
             "outlinewidth": 0,
             "ticks": ""
            },
            "colorscale": [
             [
              0,
              "#0d0887"
             ],
             [
              0.1111111111111111,
              "#46039f"
             ],
             [
              0.2222222222222222,
              "#7201a8"
             ],
             [
              0.3333333333333333,
              "#9c179e"
             ],
             [
              0.4444444444444444,
              "#bd3786"
             ],
             [
              0.5555555555555556,
              "#d8576b"
             ],
             [
              0.6666666666666666,
              "#ed7953"
             ],
             [
              0.7777777777777778,
              "#fb9f3a"
             ],
             [
              0.8888888888888888,
              "#fdca26"
             ],
             [
              1,
              "#f0f921"
             ]
            ],
            "type": "heatmap"
           }
          ],
          "heatmapgl": [
           {
            "colorbar": {
             "outlinewidth": 0,
             "ticks": ""
            },
            "colorscale": [
             [
              0,
              "#0d0887"
             ],
             [
              0.1111111111111111,
              "#46039f"
             ],
             [
              0.2222222222222222,
              "#7201a8"
             ],
             [
              0.3333333333333333,
              "#9c179e"
             ],
             [
              0.4444444444444444,
              "#bd3786"
             ],
             [
              0.5555555555555556,
              "#d8576b"
             ],
             [
              0.6666666666666666,
              "#ed7953"
             ],
             [
              0.7777777777777778,
              "#fb9f3a"
             ],
             [
              0.8888888888888888,
              "#fdca26"
             ],
             [
              1,
              "#f0f921"
             ]
            ],
            "type": "heatmapgl"
           }
          ],
          "histogram": [
           {
            "marker": {
             "colorbar": {
              "outlinewidth": 0,
              "ticks": ""
             }
            },
            "type": "histogram"
           }
          ],
          "histogram2d": [
           {
            "colorbar": {
             "outlinewidth": 0,
             "ticks": ""
            },
            "colorscale": [
             [
              0,
              "#0d0887"
             ],
             [
              0.1111111111111111,
              "#46039f"
             ],
             [
              0.2222222222222222,
              "#7201a8"
             ],
             [
              0.3333333333333333,
              "#9c179e"
             ],
             [
              0.4444444444444444,
              "#bd3786"
             ],
             [
              0.5555555555555556,
              "#d8576b"
             ],
             [
              0.6666666666666666,
              "#ed7953"
             ],
             [
              0.7777777777777778,
              "#fb9f3a"
             ],
             [
              0.8888888888888888,
              "#fdca26"
             ],
             [
              1,
              "#f0f921"
             ]
            ],
            "type": "histogram2d"
           }
          ],
          "histogram2dcontour": [
           {
            "colorbar": {
             "outlinewidth": 0,
             "ticks": ""
            },
            "colorscale": [
             [
              0,
              "#0d0887"
             ],
             [
              0.1111111111111111,
              "#46039f"
             ],
             [
              0.2222222222222222,
              "#7201a8"
             ],
             [
              0.3333333333333333,
              "#9c179e"
             ],
             [
              0.4444444444444444,
              "#bd3786"
             ],
             [
              0.5555555555555556,
              "#d8576b"
             ],
             [
              0.6666666666666666,
              "#ed7953"
             ],
             [
              0.7777777777777778,
              "#fb9f3a"
             ],
             [
              0.8888888888888888,
              "#fdca26"
             ],
             [
              1,
              "#f0f921"
             ]
            ],
            "type": "histogram2dcontour"
           }
          ],
          "mesh3d": [
           {
            "colorbar": {
             "outlinewidth": 0,
             "ticks": ""
            },
            "type": "mesh3d"
           }
          ],
          "parcoords": [
           {
            "line": {
             "colorbar": {
              "outlinewidth": 0,
              "ticks": ""
             }
            },
            "type": "parcoords"
           }
          ],
          "pie": [
           {
            "automargin": true,
            "type": "pie"
           }
          ],
          "scatter": [
           {
            "marker": {
             "colorbar": {
              "outlinewidth": 0,
              "ticks": ""
             }
            },
            "type": "scatter"
           }
          ],
          "scatter3d": [
           {
            "line": {
             "colorbar": {
              "outlinewidth": 0,
              "ticks": ""
             }
            },
            "marker": {
             "colorbar": {
              "outlinewidth": 0,
              "ticks": ""
             }
            },
            "type": "scatter3d"
           }
          ],
          "scattercarpet": [
           {
            "marker": {
             "colorbar": {
              "outlinewidth": 0,
              "ticks": ""
             }
            },
            "type": "scattercarpet"
           }
          ],
          "scattergeo": [
           {
            "marker": {
             "colorbar": {
              "outlinewidth": 0,
              "ticks": ""
             }
            },
            "type": "scattergeo"
           }
          ],
          "scattergl": [
           {
            "marker": {
             "colorbar": {
              "outlinewidth": 0,
              "ticks": ""
             }
            },
            "type": "scattergl"
           }
          ],
          "scattermapbox": [
           {
            "marker": {
             "colorbar": {
              "outlinewidth": 0,
              "ticks": ""
             }
            },
            "type": "scattermapbox"
           }
          ],
          "scatterpolar": [
           {
            "marker": {
             "colorbar": {
              "outlinewidth": 0,
              "ticks": ""
             }
            },
            "type": "scatterpolar"
           }
          ],
          "scatterpolargl": [
           {
            "marker": {
             "colorbar": {
              "outlinewidth": 0,
              "ticks": ""
             }
            },
            "type": "scatterpolargl"
           }
          ],
          "scatterternary": [
           {
            "marker": {
             "colorbar": {
              "outlinewidth": 0,
              "ticks": ""
             }
            },
            "type": "scatterternary"
           }
          ],
          "surface": [
           {
            "colorbar": {
             "outlinewidth": 0,
             "ticks": ""
            },
            "colorscale": [
             [
              0,
              "#0d0887"
             ],
             [
              0.1111111111111111,
              "#46039f"
             ],
             [
              0.2222222222222222,
              "#7201a8"
             ],
             [
              0.3333333333333333,
              "#9c179e"
             ],
             [
              0.4444444444444444,
              "#bd3786"
             ],
             [
              0.5555555555555556,
              "#d8576b"
             ],
             [
              0.6666666666666666,
              "#ed7953"
             ],
             [
              0.7777777777777778,
              "#fb9f3a"
             ],
             [
              0.8888888888888888,
              "#fdca26"
             ],
             [
              1,
              "#f0f921"
             ]
            ],
            "type": "surface"
           }
          ],
          "table": [
           {
            "cells": {
             "fill": {
              "color": "#EBF0F8"
             },
             "line": {
              "color": "white"
             }
            },
            "header": {
             "fill": {
              "color": "#C8D4E3"
             },
             "line": {
              "color": "white"
             }
            },
            "type": "table"
           }
          ]
         },
         "layout": {
          "annotationdefaults": {
           "arrowcolor": "#2a3f5f",
           "arrowhead": 0,
           "arrowwidth": 1
          },
          "coloraxis": {
           "colorbar": {
            "outlinewidth": 0,
            "ticks": ""
           }
          },
          "colorscale": {
           "diverging": [
            [
             0,
             "#8e0152"
            ],
            [
             0.1,
             "#c51b7d"
            ],
            [
             0.2,
             "#de77ae"
            ],
            [
             0.3,
             "#f1b6da"
            ],
            [
             0.4,
             "#fde0ef"
            ],
            [
             0.5,
             "#f7f7f7"
            ],
            [
             0.6,
             "#e6f5d0"
            ],
            [
             0.7,
             "#b8e186"
            ],
            [
             0.8,
             "#7fbc41"
            ],
            [
             0.9,
             "#4d9221"
            ],
            [
             1,
             "#276419"
            ]
           ],
           "sequential": [
            [
             0,
             "#0d0887"
            ],
            [
             0.1111111111111111,
             "#46039f"
            ],
            [
             0.2222222222222222,
             "#7201a8"
            ],
            [
             0.3333333333333333,
             "#9c179e"
            ],
            [
             0.4444444444444444,
             "#bd3786"
            ],
            [
             0.5555555555555556,
             "#d8576b"
            ],
            [
             0.6666666666666666,
             "#ed7953"
            ],
            [
             0.7777777777777778,
             "#fb9f3a"
            ],
            [
             0.8888888888888888,
             "#fdca26"
            ],
            [
             1,
             "#f0f921"
            ]
           ],
           "sequentialminus": [
            [
             0,
             "#0d0887"
            ],
            [
             0.1111111111111111,
             "#46039f"
            ],
            [
             0.2222222222222222,
             "#7201a8"
            ],
            [
             0.3333333333333333,
             "#9c179e"
            ],
            [
             0.4444444444444444,
             "#bd3786"
            ],
            [
             0.5555555555555556,
             "#d8576b"
            ],
            [
             0.6666666666666666,
             "#ed7953"
            ],
            [
             0.7777777777777778,
             "#fb9f3a"
            ],
            [
             0.8888888888888888,
             "#fdca26"
            ],
            [
             1,
             "#f0f921"
            ]
           ]
          },
          "colorway": [
           "#636efa",
           "#EF553B",
           "#00cc96",
           "#ab63fa",
           "#FFA15A",
           "#19d3f3",
           "#FF6692",
           "#B6E880",
           "#FF97FF",
           "#FECB52"
          ],
          "font": {
           "color": "#2a3f5f"
          },
          "geo": {
           "bgcolor": "white",
           "lakecolor": "white",
           "landcolor": "#E5ECF6",
           "showlakes": true,
           "showland": true,
           "subunitcolor": "white"
          },
          "hoverlabel": {
           "align": "left"
          },
          "hovermode": "closest",
          "mapbox": {
           "style": "light"
          },
          "paper_bgcolor": "white",
          "plot_bgcolor": "#E5ECF6",
          "polar": {
           "angularaxis": {
            "gridcolor": "white",
            "linecolor": "white",
            "ticks": ""
           },
           "bgcolor": "#E5ECF6",
           "radialaxis": {
            "gridcolor": "white",
            "linecolor": "white",
            "ticks": ""
           }
          },
          "scene": {
           "xaxis": {
            "backgroundcolor": "#E5ECF6",
            "gridcolor": "white",
            "gridwidth": 2,
            "linecolor": "white",
            "showbackground": true,
            "ticks": "",
            "zerolinecolor": "white"
           },
           "yaxis": {
            "backgroundcolor": "#E5ECF6",
            "gridcolor": "white",
            "gridwidth": 2,
            "linecolor": "white",
            "showbackground": true,
            "ticks": "",
            "zerolinecolor": "white"
           },
           "zaxis": {
            "backgroundcolor": "#E5ECF6",
            "gridcolor": "white",
            "gridwidth": 2,
            "linecolor": "white",
            "showbackground": true,
            "ticks": "",
            "zerolinecolor": "white"
           }
          },
          "shapedefaults": {
           "line": {
            "color": "#2a3f5f"
           }
          },
          "ternary": {
           "aaxis": {
            "gridcolor": "white",
            "linecolor": "white",
            "ticks": ""
           },
           "baxis": {
            "gridcolor": "white",
            "linecolor": "white",
            "ticks": ""
           },
           "bgcolor": "#E5ECF6",
           "caxis": {
            "gridcolor": "white",
            "linecolor": "white",
            "ticks": ""
           }
          },
          "title": {
           "x": 0.05
          },
          "xaxis": {
           "automargin": true,
           "gridcolor": "white",
           "linecolor": "white",
           "ticks": "",
           "title": {
            "standoff": 15
           },
           "zerolinecolor": "white",
           "zerolinewidth": 2
          },
          "yaxis": {
           "automargin": true,
           "gridcolor": "white",
           "linecolor": "white",
           "ticks": "",
           "title": {
            "standoff": 15
           },
           "zerolinecolor": "white",
           "zerolinewidth": 2
          }
         }
        },
        "title": {
         "text": "AAPL"
        },
        "xaxis": {
         "autorange": "reversed",
         "rangeslider": {
          "visible": false
         },
         "type": "category"
        }
       }
      },
      "text/html": [
       "<div>\n",
       "        \n",
       "        \n",
       "            <div id=\"9dcfbac8-fcac-4a0f-b307-7d39ff1e069a\" class=\"plotly-graph-div\" style=\"height:525px; width:100%;\"></div>\n",
       "            <script type=\"text/javascript\">\n",
       "                require([\"plotly\"], function(Plotly) {\n",
       "                    window.PLOTLYENV=window.PLOTLYENV || {};\n",
       "                    \n",
       "                if (document.getElementById(\"9dcfbac8-fcac-4a0f-b307-7d39ff1e069a\")) {\n",
       "                    Plotly.newPlot(\n",
       "                        '9dcfbac8-fcac-4a0f-b307-7d39ff1e069a',\n",
       "                        [{\"close\": [1.0299378881987578, 1.0285093167701864, 1.029472049689441, 1.026055900621118, 1.0256055900621117, 1.025310559006211, 1.0249068322981365, 1.0243819875776397, 1.025807453416149, 1.027608695652174, 1.026855900621118, 1.024401552795031, 1.0246894409937888, 1.0236332298136646, 1.0230742236024843, 1.024254658385093, 1.02366149068323, 1.0216145962732919, 1.0214285714285714, 1.0182919254658385, 1.0184788819875776, 1.0167857142857142, 1.0144099378881988, 1.0150490683229814, 1.015, 1.0152795031055901, 1.001055900621118, 0.9991925465838509, 0.9991316770186335, 0.997877950310559, 0.9964906832298137, 0.9992546583850931, 1.0035791925465838, 1.0048447204968944, 1.005248447204969, 1.0054037267080747, 1.0022981366459627, 1.002953105590062, 1.001583850931677, 1.0033229813664597, 1.005776397515528, 1.0050000000000001, 1.0065838509316771, 1.0059316770186335, 1.0047826086956522, 1.004622049689441, 1.0082919254658385, 1.0093167701863355, 1.0096273291925466, 1.0080745341614907, 1.008416149068323, 1.0084021739130433, 1.0096273291925466, 1.011304347826087, 1.0114518633540373, 1.0092546583850932, 1.0078577639751551, 1.0091614906832298, 1.0066770186335403, 1.006972049689441, 1.0062422360248446, 1.0066614906832299, 1.0072670807453414, 1.004534161490683, 1.0040683229813665, 1.0057732919254658, 1.0031835403726708, 1.0025776397515527, 1.005248447204969, 1.0043478260869565, 1.0059937888198758, 1.0065838509316771, 1.0059658385093166, 1.004534161490683, 1.0056521739130435, 1.0048136645962733, 1.007639751552795, 1.0063664596273292, 1.0042236024844722, 0.9995652173913044, 0.9995031055900621, 0.99972049689441, 0.9999689440993789, 0.9992857142857142, 0.9999378881987578, 0.9989130434782608, 0.999205900621118, 1.0002484472049689, 0.9989130434782608, 0.9976086956521739, 0.9970496894409938, 0.9964527950310559, 0.9955900621118012, 0.9948136645962733, 0.9929192546583852, 0.9940683229813664, 0.9916630434782608, 0.9909782608695653, 0.9953726708074534, 0.9966459627329193], \"high\": [1.0304347826086957, 1.03027950310559, 1.029782608695652, 1.0263043478260871, 1.0270496894409937, 1.0255900621118013, 1.026552795031056, 1.0269875776397515, 1.027919254658385, 1.0283229813664596, 1.027080745341615, 1.0248447204968945, 1.0248447204968945, 1.0248447204968945, 1.0243164596273293, 1.0248447204968945, 1.0242236024844722, 1.0234782608695652, 1.0217391304347827, 1.0204658385093166, 1.0186335403726707, 1.0172981366459628, 1.0151242236024844, 1.0154347826086958, 1.0186335403726707, 1.0153726708074533, 1.0011180124223602, 1.0002481366459628, 0.9995034161490683, 0.9996583850931676, 1.000527950310559, 1.0039130434782608, 1.0049068322981365, 1.005745341614907, 1.0059937888198758, 1.00555900621118, 1.0040993788819876, 1.0038819875776397, 1.003804347826087, 1.0059006211180124, 1.007329192546584, 1.0068944099378883, 1.0070496894409937, 1.006614906832298, 1.0054347826086956, 1.008664596273292, 1.0102484472049689, 1.0112422360248448, 1.0101242236024845, 1.009472049689441, 1.0112142857142856, 1.009472049689441, 1.0130434782608695, 1.011863354037267, 1.0114596273291925, 1.0096273291925466, 1.0093167701863355, 1.009223602484472, 1.007329192546584, 1.0082298136645962, 1.0072981366459628, 1.0074534161490682, 1.0074844720496896, 1.0051242236024844, 1.006024844720497, 1.00583850931677, 1.0032919254658386, 1.0052950310559006, 1.0059627329192546, 1.006055900621118, 1.0072670807453414, 1.0080434782608696, 1.0069875776397517, 1.0064906832298135, 1.006304347826087, 1.0087888198757764, 1.0088509316770187, 1.0093167701863355, 1.004472049689441, 1.0002484472049689, 1.000527950310559, 1.000527950310559, 1.0005590062111802, 1.0002484472049689, 1.0009627329192547, 0.9998447204968943, 1.0006211180124223, 1.00027950310559, 0.9990680124223603, 0.9982919254658384, 0.9972360248447205, 0.9964596273291926, 0.9959627329192546, 0.995, 0.9952484472049691, 0.9950621118012423, 0.9935093167701864, 0.9954965838509316, 0.9974844720496895, 1.0003105590062114], \"low\": [1.0254658385093167, 1.028416149068323, 1.025163354037267, 1.0242857142857142, 1.0250621118012422, 1.0225155279503106, 1.0239751552795031, 1.024192546583851, 1.02527049689441, 1.0268012422360249, 1.024254658385093, 1.023167701863354, 1.0231987577639752, 1.0226086956521738, 1.0218012422360248, 1.0217701863354036, 1.021583850931677, 1.0197826086956523, 1.017888198757764, 1.0174636645962731, 1.0168012422360249, 1.01388198757764, 1.0124844720496893, 1.0115527950310559, 1.0112422360248448, 1.0038198757763976, 0.9970496894409938, 0.9986645962732918, 0.9962111801242235, 0.9964906832298137, 0.9964906832298137, 0.9991925465838509, 1.0032608695652174, 1.0041226708074533, 1.0045652173913044, 1.0022360248447206, 1.002111801242236, 1.0013664596273293, 1.0013975155279502, 1.0029192546583852, 1.0046894409937888, 1.0048757763975156, 1.0054037267080747, 1.0037267080745342, 1.0026397515527952, 1.0043167701863354, 1.0079813664596273, 1.0088198757763975, 1.0081055900621119, 1.0075487577639752, 1.007608695652174, 1.0067701863354037, 1.0090062111801241, 1.0099068322981366, 1.0082608695652175, 1.0069875776397517, 1.0078571428571428, 1.006552795031056, 1.0062111801242235, 1.005776397515528, 1.0048757763975156, 1.0056832298136646, 1.0045031055900622, 1.0035717391304348, 1.0038819875776397, 1.0031055900621118, 1.0009316770186336, 1.0022981366459627, 1.0041614906832297, 1.0043167701863354, 1.0049068322981365, 1.0054347826086956, 1.0040372670807454, 1.0038509316770186, 1.0042236024844722, 1.0032919254658386, 1.005310559006211, 1.0014285714285713, 0.9991614906832299, 0.9980434782608696, 0.9978571428571429, 0.9990372670807454, 0.9992236024844721, 0.9977639751552794, 0.9986645962732918, 0.9982608695652174, 0.9987577639751554, 0.9984472049689441, 0.9971739130434781, 0.996832298136646, 0.9962111801242235, 0.9947826086956522, 0.9939130434782609, 0.9927018633540372, 0.9924844720496894, 0.9909627329192546, 0.9904658385093168, 0.9906832298136646, 0.9943167701863355, 0.9966149068322983], \"open\": [1.0286024844720496, 1.029409937888199, 1.0262111801242235, 1.0256214285714285, 1.025248447204969, 1.0249068322981365, 1.02444099378882, 1.025776397515528, 1.0275621118012421, 1.026863354037267, 1.0243167701863354, 1.0245962732919256, 1.023726708074534, 1.0230537267080744, 1.024254658385093, 1.0236406832298137, 1.021583850931677, 1.021366459627329, 1.0183540372670807, 1.0185093167701862, 1.0168012422360249, 1.01444099378882, 1.015031055900621, 1.0149689440993788, 1.0154347826086958, 1.004192546583851, 0.9992236024844721, 0.9992546583850931, 0.9978260869565218, 0.9965372670807453, 0.9991583850931677, 1.0036024844720497, 1.0048757763975156, 1.005035403726708, 1.0054968944099378, 1.0023291925465838, 1.002950310559006, 1.0015683229813666, 1.0033034161490684, 1.0058695652173912, 1.005031055900621, 1.0066459627329192, 1.0059444099378883, 1.0045962732919256, 1.0045506211180124, 1.0082919254658385, 1.0093478260869564, 1.009751552795031, 1.0082298136645962, 1.0084472049689441, 1.0083540372670807, 1.0074223602484471, 1.0113975155279504, 1.0114596273291925, 1.0093978260869565, 1.0078670807453416, 1.009192546583851, 1.0066770186335403, 1.0069565217391305, 1.0061180124223603, 1.0067391304347826, 1.0072981366459628, 1.0045652173913044, 1.0040683229813665, 1.005764906832298, 1.0031987577639752, 1.0026086956521738, 1.0051242236024844, 1.0043788819875776, 1.006055900621118, 1.0065217391304349, 1.0059316770186335, 1.004534161490683, 1.0056211180124224, 1.0047826086956522, 1.0079037267080746, 1.0064596273291926, 1.0082608695652175, 0.9995341614906833, 0.9994872670807453, 0.9997515527950311, 0.9999689440993789, 0.9993478260869566, 0.9998782608695652, 0.9989440993788821, 0.9992236024844721, 1.000217701863354, 0.9989130434782608, 0.9975776397515529, 0.9971428571428571, 0.9964596273291926, 0.9954968944099379, 0.9948136645962733, 0.9928881987577639, 0.9940378881987577, 0.9916614906832298, 0.9908385093167702, 0.9952795031055901, 0.9966770186335404, 1.0], \"type\": \"candlestick\", \"x\": [\"2020-06-05T16:00:00\", \"2020-06-05T15:45:00\", \"2020-06-05T15:30:00\", \"2020-06-05T15:15:00\", \"2020-06-05T15:00:00\", \"2020-06-05T14:45:00\", \"2020-06-05T14:30:00\", \"2020-06-05T14:15:00\", \"2020-06-05T14:00:00\", \"2020-06-05T13:45:00\", \"2020-06-05T13:30:00\", \"2020-06-05T13:15:00\", \"2020-06-05T13:00:00\", \"2020-06-05T12:45:00\", \"2020-06-05T12:30:00\", \"2020-06-05T12:15:00\", \"2020-06-05T12:00:00\", \"2020-06-05T11:45:00\", \"2020-06-05T11:30:00\", \"2020-06-05T11:15:00\", \"2020-06-05T11:00:00\", \"2020-06-05T10:45:00\", \"2020-06-05T10:30:00\", \"2020-06-05T10:15:00\", \"2020-06-05T10:00:00\", \"2020-06-05T09:45:00\", \"2020-06-04T16:00:00\", \"2020-06-04T15:45:00\", \"2020-06-04T15:30:00\", \"2020-06-04T15:15:00\", \"2020-06-04T15:00:00\", \"2020-06-04T14:45:00\", \"2020-06-04T14:30:00\", \"2020-06-04T14:15:00\", \"2020-06-04T14:00:00\", \"2020-06-04T13:45:00\", \"2020-06-04T13:30:00\", \"2020-06-04T13:15:00\", \"2020-06-04T13:00:00\", \"2020-06-04T12:45:00\", \"2020-06-04T12:30:00\", \"2020-06-04T12:15:00\", \"2020-06-04T12:00:00\", \"2020-06-04T11:45:00\", \"2020-06-04T11:30:00\", \"2020-06-04T11:15:00\", \"2020-06-04T11:00:00\", \"2020-06-04T10:45:00\", \"2020-06-04T10:30:00\", \"2020-06-04T10:15:00\", \"2020-06-04T10:00:00\", \"2020-06-04T09:45:00\", \"2020-06-03T16:00:00\", \"2020-06-03T15:45:00\", \"2020-06-03T15:30:00\", \"2020-06-03T15:15:00\", \"2020-06-03T15:00:00\", \"2020-06-03T14:45:00\", \"2020-06-03T14:30:00\", \"2020-06-03T14:15:00\", \"2020-06-03T14:00:00\", \"2020-06-03T13:45:00\", \"2020-06-03T13:30:00\", \"2020-06-03T13:15:00\", \"2020-06-03T13:00:00\", \"2020-06-03T12:45:00\", \"2020-06-03T12:30:00\", \"2020-06-03T12:15:00\", \"2020-06-03T12:00:00\", \"2020-06-03T11:45:00\", \"2020-06-03T11:30:00\", \"2020-06-03T11:15:00\", \"2020-06-03T11:00:00\", \"2020-06-03T10:45:00\", \"2020-06-03T10:30:00\", \"2020-06-03T10:15:00\", \"2020-06-03T10:00:00\", \"2020-06-03T09:45:00\", \"2020-06-02T16:00:00\", \"2020-06-02T15:45:00\", \"2020-06-02T15:30:00\", \"2020-06-02T15:15:00\", \"2020-06-02T15:00:00\", \"2020-06-02T14:45:00\", \"2020-06-02T14:30:00\", \"2020-06-02T14:15:00\", \"2020-06-02T14:00:00\", \"2020-06-02T13:45:00\", \"2020-06-02T13:30:00\", \"2020-06-02T13:15:00\", \"2020-06-02T13:00:00\", \"2020-06-02T12:45:00\", \"2020-06-02T12:30:00\", \"2020-06-02T12:15:00\", \"2020-06-02T12:00:00\", \"2020-06-02T11:45:00\", \"2020-06-02T11:30:00\", \"2020-06-02T11:15:00\", \"2020-06-02T11:00:00\", \"2020-06-02T10:45:00\"]}],\n",
       "                        {\"template\": {\"data\": {\"bar\": [{\"error_x\": {\"color\": \"#2a3f5f\"}, \"error_y\": {\"color\": \"#2a3f5f\"}, \"marker\": {\"line\": {\"color\": \"#E5ECF6\", \"width\": 0.5}}, \"type\": \"bar\"}], \"barpolar\": [{\"marker\": {\"line\": {\"color\": \"#E5ECF6\", \"width\": 0.5}}, \"type\": \"barpolar\"}], \"carpet\": [{\"aaxis\": {\"endlinecolor\": \"#2a3f5f\", \"gridcolor\": \"white\", \"linecolor\": \"white\", \"minorgridcolor\": \"white\", \"startlinecolor\": \"#2a3f5f\"}, \"baxis\": {\"endlinecolor\": \"#2a3f5f\", \"gridcolor\": \"white\", \"linecolor\": \"white\", \"minorgridcolor\": \"white\", \"startlinecolor\": \"#2a3f5f\"}, \"type\": \"carpet\"}], \"choropleth\": [{\"colorbar\": {\"outlinewidth\": 0, \"ticks\": \"\"}, \"type\": \"choropleth\"}], \"contour\": [{\"colorbar\": {\"outlinewidth\": 0, \"ticks\": \"\"}, \"colorscale\": [[0.0, \"#0d0887\"], [0.1111111111111111, \"#46039f\"], [0.2222222222222222, \"#7201a8\"], [0.3333333333333333, \"#9c179e\"], [0.4444444444444444, \"#bd3786\"], [0.5555555555555556, \"#d8576b\"], [0.6666666666666666, \"#ed7953\"], [0.7777777777777778, \"#fb9f3a\"], [0.8888888888888888, \"#fdca26\"], [1.0, \"#f0f921\"]], \"type\": \"contour\"}], \"contourcarpet\": [{\"colorbar\": {\"outlinewidth\": 0, \"ticks\": \"\"}, \"type\": \"contourcarpet\"}], \"heatmap\": [{\"colorbar\": {\"outlinewidth\": 0, \"ticks\": \"\"}, \"colorscale\": [[0.0, \"#0d0887\"], [0.1111111111111111, \"#46039f\"], [0.2222222222222222, \"#7201a8\"], [0.3333333333333333, \"#9c179e\"], [0.4444444444444444, \"#bd3786\"], [0.5555555555555556, \"#d8576b\"], [0.6666666666666666, \"#ed7953\"], [0.7777777777777778, \"#fb9f3a\"], [0.8888888888888888, \"#fdca26\"], [1.0, \"#f0f921\"]], \"type\": \"heatmap\"}], \"heatmapgl\": [{\"colorbar\": {\"outlinewidth\": 0, \"ticks\": \"\"}, \"colorscale\": [[0.0, \"#0d0887\"], [0.1111111111111111, \"#46039f\"], [0.2222222222222222, \"#7201a8\"], [0.3333333333333333, \"#9c179e\"], [0.4444444444444444, \"#bd3786\"], [0.5555555555555556, \"#d8576b\"], [0.6666666666666666, \"#ed7953\"], [0.7777777777777778, \"#fb9f3a\"], [0.8888888888888888, \"#fdca26\"], [1.0, \"#f0f921\"]], \"type\": \"heatmapgl\"}], \"histogram\": [{\"marker\": {\"colorbar\": {\"outlinewidth\": 0, \"ticks\": \"\"}}, \"type\": \"histogram\"}], \"histogram2d\": [{\"colorbar\": {\"outlinewidth\": 0, \"ticks\": \"\"}, \"colorscale\": [[0.0, \"#0d0887\"], [0.1111111111111111, \"#46039f\"], [0.2222222222222222, \"#7201a8\"], [0.3333333333333333, \"#9c179e\"], [0.4444444444444444, \"#bd3786\"], [0.5555555555555556, \"#d8576b\"], [0.6666666666666666, \"#ed7953\"], [0.7777777777777778, \"#fb9f3a\"], [0.8888888888888888, \"#fdca26\"], [1.0, \"#f0f921\"]], \"type\": \"histogram2d\"}], \"histogram2dcontour\": [{\"colorbar\": {\"outlinewidth\": 0, \"ticks\": \"\"}, \"colorscale\": [[0.0, \"#0d0887\"], [0.1111111111111111, \"#46039f\"], [0.2222222222222222, \"#7201a8\"], [0.3333333333333333, \"#9c179e\"], [0.4444444444444444, \"#bd3786\"], [0.5555555555555556, \"#d8576b\"], [0.6666666666666666, \"#ed7953\"], [0.7777777777777778, \"#fb9f3a\"], [0.8888888888888888, \"#fdca26\"], [1.0, \"#f0f921\"]], \"type\": \"histogram2dcontour\"}], \"mesh3d\": [{\"colorbar\": {\"outlinewidth\": 0, \"ticks\": \"\"}, \"type\": \"mesh3d\"}], \"parcoords\": [{\"line\": {\"colorbar\": {\"outlinewidth\": 0, \"ticks\": \"\"}}, \"type\": \"parcoords\"}], \"pie\": [{\"automargin\": true, \"type\": \"pie\"}], \"scatter\": [{\"marker\": {\"colorbar\": {\"outlinewidth\": 0, \"ticks\": \"\"}}, \"type\": \"scatter\"}], \"scatter3d\": [{\"line\": {\"colorbar\": {\"outlinewidth\": 0, \"ticks\": \"\"}}, \"marker\": {\"colorbar\": {\"outlinewidth\": 0, \"ticks\": \"\"}}, \"type\": \"scatter3d\"}], \"scattercarpet\": [{\"marker\": {\"colorbar\": {\"outlinewidth\": 0, \"ticks\": \"\"}}, \"type\": \"scattercarpet\"}], \"scattergeo\": [{\"marker\": {\"colorbar\": {\"outlinewidth\": 0, \"ticks\": \"\"}}, \"type\": \"scattergeo\"}], \"scattergl\": [{\"marker\": {\"colorbar\": {\"outlinewidth\": 0, \"ticks\": \"\"}}, \"type\": \"scattergl\"}], \"scattermapbox\": [{\"marker\": {\"colorbar\": {\"outlinewidth\": 0, \"ticks\": \"\"}}, \"type\": \"scattermapbox\"}], \"scatterpolar\": [{\"marker\": {\"colorbar\": {\"outlinewidth\": 0, \"ticks\": \"\"}}, \"type\": \"scatterpolar\"}], \"scatterpolargl\": [{\"marker\": {\"colorbar\": {\"outlinewidth\": 0, \"ticks\": \"\"}}, \"type\": \"scatterpolargl\"}], \"scatterternary\": [{\"marker\": {\"colorbar\": {\"outlinewidth\": 0, \"ticks\": \"\"}}, \"type\": \"scatterternary\"}], \"surface\": [{\"colorbar\": {\"outlinewidth\": 0, \"ticks\": \"\"}, \"colorscale\": [[0.0, \"#0d0887\"], [0.1111111111111111, \"#46039f\"], [0.2222222222222222, \"#7201a8\"], [0.3333333333333333, \"#9c179e\"], [0.4444444444444444, \"#bd3786\"], [0.5555555555555556, \"#d8576b\"], [0.6666666666666666, \"#ed7953\"], [0.7777777777777778, \"#fb9f3a\"], [0.8888888888888888, \"#fdca26\"], [1.0, \"#f0f921\"]], \"type\": \"surface\"}], \"table\": [{\"cells\": {\"fill\": {\"color\": \"#EBF0F8\"}, \"line\": {\"color\": \"white\"}}, \"header\": {\"fill\": {\"color\": \"#C8D4E3\"}, \"line\": {\"color\": \"white\"}}, \"type\": \"table\"}]}, \"layout\": {\"annotationdefaults\": {\"arrowcolor\": \"#2a3f5f\", \"arrowhead\": 0, \"arrowwidth\": 1}, \"coloraxis\": {\"colorbar\": {\"outlinewidth\": 0, \"ticks\": \"\"}}, \"colorscale\": {\"diverging\": [[0, \"#8e0152\"], [0.1, \"#c51b7d\"], [0.2, \"#de77ae\"], [0.3, \"#f1b6da\"], [0.4, \"#fde0ef\"], [0.5, \"#f7f7f7\"], [0.6, \"#e6f5d0\"], [0.7, \"#b8e186\"], [0.8, \"#7fbc41\"], [0.9, \"#4d9221\"], [1, \"#276419\"]], \"sequential\": [[0.0, \"#0d0887\"], [0.1111111111111111, \"#46039f\"], [0.2222222222222222, \"#7201a8\"], [0.3333333333333333, \"#9c179e\"], [0.4444444444444444, \"#bd3786\"], [0.5555555555555556, \"#d8576b\"], [0.6666666666666666, \"#ed7953\"], [0.7777777777777778, \"#fb9f3a\"], [0.8888888888888888, \"#fdca26\"], [1.0, \"#f0f921\"]], \"sequentialminus\": [[0.0, \"#0d0887\"], [0.1111111111111111, \"#46039f\"], [0.2222222222222222, \"#7201a8\"], [0.3333333333333333, \"#9c179e\"], [0.4444444444444444, \"#bd3786\"], [0.5555555555555556, \"#d8576b\"], [0.6666666666666666, \"#ed7953\"], [0.7777777777777778, \"#fb9f3a\"], [0.8888888888888888, \"#fdca26\"], [1.0, \"#f0f921\"]]}, \"colorway\": [\"#636efa\", \"#EF553B\", \"#00cc96\", \"#ab63fa\", \"#FFA15A\", \"#19d3f3\", \"#FF6692\", \"#B6E880\", \"#FF97FF\", \"#FECB52\"], \"font\": {\"color\": \"#2a3f5f\"}, \"geo\": {\"bgcolor\": \"white\", \"lakecolor\": \"white\", \"landcolor\": \"#E5ECF6\", \"showlakes\": true, \"showland\": true, \"subunitcolor\": \"white\"}, \"hoverlabel\": {\"align\": \"left\"}, \"hovermode\": \"closest\", \"mapbox\": {\"style\": \"light\"}, \"paper_bgcolor\": \"white\", \"plot_bgcolor\": \"#E5ECF6\", \"polar\": {\"angularaxis\": {\"gridcolor\": \"white\", \"linecolor\": \"white\", \"ticks\": \"\"}, \"bgcolor\": \"#E5ECF6\", \"radialaxis\": {\"gridcolor\": \"white\", \"linecolor\": \"white\", \"ticks\": \"\"}}, \"scene\": {\"xaxis\": {\"backgroundcolor\": \"#E5ECF6\", \"gridcolor\": \"white\", \"gridwidth\": 2, \"linecolor\": \"white\", \"showbackground\": true, \"ticks\": \"\", \"zerolinecolor\": \"white\"}, \"yaxis\": {\"backgroundcolor\": \"#E5ECF6\", \"gridcolor\": \"white\", \"gridwidth\": 2, \"linecolor\": \"white\", \"showbackground\": true, \"ticks\": \"\", \"zerolinecolor\": \"white\"}, \"zaxis\": {\"backgroundcolor\": \"#E5ECF6\", \"gridcolor\": \"white\", \"gridwidth\": 2, \"linecolor\": \"white\", \"showbackground\": true, \"ticks\": \"\", \"zerolinecolor\": \"white\"}}, \"shapedefaults\": {\"line\": {\"color\": \"#2a3f5f\"}}, \"ternary\": {\"aaxis\": {\"gridcolor\": \"white\", \"linecolor\": \"white\", \"ticks\": \"\"}, \"baxis\": {\"gridcolor\": \"white\", \"linecolor\": \"white\", \"ticks\": \"\"}, \"bgcolor\": \"#E5ECF6\", \"caxis\": {\"gridcolor\": \"white\", \"linecolor\": \"white\", \"ticks\": \"\"}}, \"title\": {\"x\": 0.05}, \"xaxis\": {\"automargin\": true, \"gridcolor\": \"white\", \"linecolor\": \"white\", \"ticks\": \"\", \"title\": {\"standoff\": 15}, \"zerolinecolor\": \"white\", \"zerolinewidth\": 2}, \"yaxis\": {\"automargin\": true, \"gridcolor\": \"white\", \"linecolor\": \"white\", \"ticks\": \"\", \"title\": {\"standoff\": 15}, \"zerolinecolor\": \"white\", \"zerolinewidth\": 2}}}, \"title\": {\"text\": \"AAPL\"}, \"xaxis\": {\"autorange\": \"reversed\", \"rangeslider\": {\"visible\": false}, \"type\": \"category\"}},\n",
       "                        {\"responsive\": true}\n",
       "                    ).then(function(){\n",
       "                            \n",
       "var gd = document.getElementById('9dcfbac8-fcac-4a0f-b307-7d39ff1e069a');\n",
       "var x = new MutationObserver(function (mutations, observer) {{\n",
       "        var display = window.getComputedStyle(gd).display;\n",
       "        if (!display || display === 'none') {{\n",
       "            console.log([gd, 'removed!']);\n",
       "            Plotly.purge(gd);\n",
       "            observer.disconnect();\n",
       "        }}\n",
       "}});\n",
       "\n",
       "// Listen for the removal of the full notebook cells\n",
       "var notebookContainer = gd.closest('#notebook-container');\n",
       "if (notebookContainer) {{\n",
       "    x.observe(notebookContainer, {childList: true});\n",
       "}}\n",
       "\n",
       "// Listen for the clearing of the current output cell\n",
       "var outputEl = gd.closest('.output');\n",
       "if (outputEl) {{\n",
       "    x.observe(outputEl, {childList: true});\n",
       "}}\n",
       "\n",
       "                        })\n",
       "                };\n",
       "                });\n",
       "            </script>\n",
       "        </div>"
      ]
     },
     "metadata": {},
     "output_type": "display_data"
    }
   ],
   "source": [
    "import plotly.graph_objects as go\n",
    "\n",
    "dfChart = dfRatio\n",
    "\n",
    "fig = go.Figure(data=[go.Candlestick(x=dfChart.index,\n",
    "                open=dfChart['open'], high=dfChart['high'],\n",
    "                low=dfChart['low'], close=dfChart['close'])\n",
    "                     ])\n",
    "\n",
    "#add xaxis_type='category' and fig.update_xaxes(autorange=\"reversed\") to remove the datetime gaps\n",
    "fig.update_layout(xaxis_type='category', xaxis_rangeslider_visible=False, title_text=ticker)\n",
    "fig.update_xaxes(autorange=\"reversed\")\n",
    "fig.show()"
   ]
  },
  {
   "cell_type": "code",
   "execution_count": null,
   "metadata": {},
   "outputs": [],
   "source": []
  }
 ],
 "metadata": {
  "kernelspec": {
   "display_name": "Python 3",
   "language": "python",
   "name": "python3"
  },
  "language_info": {
   "codemirror_mode": {
    "name": "ipython",
    "version": 3
   },
   "file_extension": ".py",
   "mimetype": "text/x-python",
   "name": "python",
   "nbconvert_exporter": "python",
   "pygments_lexer": "ipython3",
   "version": "3.7.6"
  }
 },
 "nbformat": 4,
 "nbformat_minor": 4
}
