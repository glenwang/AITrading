{
 "cells": [
  {
   "cell_type": "code",
   "execution_count": null,
   "metadata": {},
   "outputs": [],
   "source": [
    "# download stock data from financialmodelingprep API\n",
    "# data source https://financialmodelingprep.com/developer/docs/#Stock-Historical-Price\n",
    "\n",
    "#!/usr/bin/env python\n",
    "\n",
    "try:\n",
    "    # For Python 3.0 and later\n",
    "    from urllib.request import urlopen\n",
    "except ImportError:\n",
    "    # Fall back to Python 2's urllib2\n",
    "    from urllib2 import urlopen\n",
    "\n",
    "import json\n",
    "\n",
    "def get_jsonparsed_data(url):\n",
    "    \"\"\"\n",
    "    Receive the content of ``url``, parse it as JSON and return the object.\n",
    "\n",
    "    Parameters\n",
    "    ----------\n",
    "    url : str\n",
    "\n",
    "    Returns\n",
    "    -------\n",
    "    dict\n",
    "    \"\"\"\n",
    "    response = urlopen(url)\n",
    "    data = response.read().decode(\"utf-8\")\n",
    "    return json.loads(data)\n",
    "\n",
    "url = (\"https://financialmodelingprep.com///api/v3/historical-price-full/AAPL?apikey=1bbd31162222e0cdf9fc8fa89e008c19\")\n",
    "data = get_jsonparsed_data(url)\n",
    "print(data)"
   ]
  },
  {
   "cell_type": "code",
   "execution_count": null,
   "metadata": {},
   "outputs": [],
   "source": [
    "import plotly.graph_objects as go\n",
    "\n",
    "ticker='SRTY'\n",
    "dfChart = rfmaDF[rfmaDF['ticker']==ticker]\n",
    "\n",
    "\n",
    "fig = go.Figure(data=[go.Candlestick(x=dfChart['date'],\n",
    "                open=dfChart['open'], high=dfChart['high'],\n",
    "                low=dfChart['low'], close=dfChart['close'])\n",
    "                     ])\n",
    "\n",
    "#add xaxis_type='category' and fig.update_xaxes(autorange=\"reversed\") to remove the datetime gaps\n",
    "fig.update_layout(xaxis_type='category', xaxis_rangeslider_visible=False, title_text=ticker)\n",
    "#fig.update_xaxes(autorange=\"reversed\")\n",
    "fig.show()\n",
    "\n",
    "dfChart=cData[cData['ticker']==ticker]\n",
    "fig = go.Figure(data=[go.Candlestick(x=dfChart['date'],\n",
    "                open=dfChart['open'], high=dfChart['high'],\n",
    "                low=dfChart['low'], close=dfChart['close'])\n",
    "                     ])\n",
    "\n",
    "#add xaxis_type='category' and fig.update_xaxes(autorange=\"reversed\") to remove the datetime gaps\n",
    "fig.update_layout(xaxis_type='category', xaxis_rangeslider_visible=False, title_text=ticker)\n",
    "fig.update_xaxes(autorange=\"reversed\")\n",
    "fig.show()"
   ]
  }
 ],
 "metadata": {
  "kernelspec": {
   "display_name": "Python 3",
   "language": "python",
   "name": "python3"
  },
  "language_info": {
   "codemirror_mode": {
    "name": "ipython",
    "version": 3
   },
   "file_extension": ".py",
   "mimetype": "text/x-python",
   "name": "python",
   "nbconvert_exporter": "python",
   "pygments_lexer": "ipython3",
   "version": "3.7.6"
  }
 },
 "nbformat": 4,
 "nbformat_minor": 4
}
